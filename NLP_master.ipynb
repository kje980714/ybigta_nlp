{
 "cells": [
  {
   "cell_type": "code",
   "execution_count": 0,
   "metadata": {
    "colab": {
     "base_uri": "https://localhost:8080/",
     "height": 556
    },
    "colab_type": "code",
    "executionInfo": {
     "elapsed": 95975,
     "status": "error",
     "timestamp": 1582884023716,
     "user": {
      "displayName": "정정호",
      "photoUrl": "",
      "userId": "01189220954616800785"
     },
     "user_tz": -540
    },
    "id": "XGrYn5qxOfJJ",
    "outputId": "52d7d507-3529-4398-fd7b-a3a2bc9f2ed4"
   },
   "outputs": [
    {
     "ename": "KeyboardInterrupt",
     "evalue": "ignored",
     "output_type": "error",
     "traceback": [
      "\u001b[0;31m---------------------------------------------------------------------------\u001b[0m",
      "\u001b[0;31mKeyboardInterrupt\u001b[0m                         Traceback (most recent call last)",
      "\u001b[0;32m/usr/local/lib/python3.6/dist-packages/ipykernel/kernelbase.py\u001b[0m in \u001b[0;36m_input_request\u001b[0;34m(self, prompt, ident, parent, password)\u001b[0m\n\u001b[1;32m    729\u001b[0m             \u001b[0;32mtry\u001b[0m\u001b[0;34m:\u001b[0m\u001b[0;34m\u001b[0m\u001b[0;34m\u001b[0m\u001b[0m\n\u001b[0;32m--> 730\u001b[0;31m                 \u001b[0mident\u001b[0m\u001b[0;34m,\u001b[0m \u001b[0mreply\u001b[0m \u001b[0;34m=\u001b[0m \u001b[0mself\u001b[0m\u001b[0;34m.\u001b[0m\u001b[0msession\u001b[0m\u001b[0;34m.\u001b[0m\u001b[0mrecv\u001b[0m\u001b[0;34m(\u001b[0m\u001b[0mself\u001b[0m\u001b[0;34m.\u001b[0m\u001b[0mstdin_socket\u001b[0m\u001b[0;34m,\u001b[0m \u001b[0;36m0\u001b[0m\u001b[0;34m)\u001b[0m\u001b[0;34m\u001b[0m\u001b[0;34m\u001b[0m\u001b[0m\n\u001b[0m\u001b[1;32m    731\u001b[0m             \u001b[0;32mexcept\u001b[0m \u001b[0mException\u001b[0m\u001b[0;34m:\u001b[0m\u001b[0;34m\u001b[0m\u001b[0;34m\u001b[0m\u001b[0m\n",
      "\u001b[0;32m/usr/local/lib/python3.6/dist-packages/jupyter_client/session.py\u001b[0m in \u001b[0;36mrecv\u001b[0;34m(self, socket, mode, content, copy)\u001b[0m\n\u001b[1;32m    802\u001b[0m         \u001b[0;32mtry\u001b[0m\u001b[0;34m:\u001b[0m\u001b[0;34m\u001b[0m\u001b[0;34m\u001b[0m\u001b[0m\n\u001b[0;32m--> 803\u001b[0;31m             \u001b[0mmsg_list\u001b[0m \u001b[0;34m=\u001b[0m \u001b[0msocket\u001b[0m\u001b[0;34m.\u001b[0m\u001b[0mrecv_multipart\u001b[0m\u001b[0;34m(\u001b[0m\u001b[0mmode\u001b[0m\u001b[0;34m,\u001b[0m \u001b[0mcopy\u001b[0m\u001b[0;34m=\u001b[0m\u001b[0mcopy\u001b[0m\u001b[0;34m)\u001b[0m\u001b[0;34m\u001b[0m\u001b[0;34m\u001b[0m\u001b[0m\n\u001b[0m\u001b[1;32m    804\u001b[0m         \u001b[0;32mexcept\u001b[0m \u001b[0mzmq\u001b[0m\u001b[0;34m.\u001b[0m\u001b[0mZMQError\u001b[0m \u001b[0;32mas\u001b[0m \u001b[0me\u001b[0m\u001b[0;34m:\u001b[0m\u001b[0;34m\u001b[0m\u001b[0;34m\u001b[0m\u001b[0m\n",
      "\u001b[0;32m/usr/local/lib/python3.6/dist-packages/zmq/sugar/socket.py\u001b[0m in \u001b[0;36mrecv_multipart\u001b[0;34m(self, flags, copy, track)\u001b[0m\n\u001b[1;32m    465\u001b[0m         \"\"\"\n\u001b[0;32m--> 466\u001b[0;31m         \u001b[0mparts\u001b[0m \u001b[0;34m=\u001b[0m \u001b[0;34m[\u001b[0m\u001b[0mself\u001b[0m\u001b[0;34m.\u001b[0m\u001b[0mrecv\u001b[0m\u001b[0;34m(\u001b[0m\u001b[0mflags\u001b[0m\u001b[0;34m,\u001b[0m \u001b[0mcopy\u001b[0m\u001b[0;34m=\u001b[0m\u001b[0mcopy\u001b[0m\u001b[0;34m,\u001b[0m \u001b[0mtrack\u001b[0m\u001b[0;34m=\u001b[0m\u001b[0mtrack\u001b[0m\u001b[0;34m)\u001b[0m\u001b[0;34m]\u001b[0m\u001b[0;34m\u001b[0m\u001b[0;34m\u001b[0m\u001b[0m\n\u001b[0m\u001b[1;32m    467\u001b[0m         \u001b[0;31m# have first part already, only loop while more to receive\u001b[0m\u001b[0;34m\u001b[0m\u001b[0;34m\u001b[0m\u001b[0;34m\u001b[0m\u001b[0m\n",
      "\u001b[0;32mzmq/backend/cython/socket.pyx\u001b[0m in \u001b[0;36mzmq.backend.cython.socket.Socket.recv\u001b[0;34m()\u001b[0m\n",
      "\u001b[0;32mzmq/backend/cython/socket.pyx\u001b[0m in \u001b[0;36mzmq.backend.cython.socket.Socket.recv\u001b[0;34m()\u001b[0m\n",
      "\u001b[0;32mzmq/backend/cython/socket.pyx\u001b[0m in \u001b[0;36mzmq.backend.cython.socket._recv_copy\u001b[0;34m()\u001b[0m\n",
      "\u001b[0;32m/usr/local/lib/python3.6/dist-packages/zmq/backend/cython/checkrc.pxd\u001b[0m in \u001b[0;36mzmq.backend.cython.checkrc._check_rc\u001b[0;34m()\u001b[0m\n",
      "\u001b[0;31mKeyboardInterrupt\u001b[0m: ",
      "\nDuring handling of the above exception, another exception occurred:\n",
      "\u001b[0;31mKeyboardInterrupt\u001b[0m                         Traceback (most recent call last)",
      "\u001b[0;32m<ipython-input-1-875b2492ce8b>\u001b[0m in \u001b[0;36m<module>\u001b[0;34m()\u001b[0m\n\u001b[1;32m      1\u001b[0m \u001b[0;32mfrom\u001b[0m \u001b[0mgoogle\u001b[0m\u001b[0;34m.\u001b[0m\u001b[0mcolab\u001b[0m \u001b[0;32mimport\u001b[0m \u001b[0mauth\u001b[0m\u001b[0;34m\u001b[0m\u001b[0;34m\u001b[0m\u001b[0m\n\u001b[0;32m----> 2\u001b[0;31m \u001b[0mauth\u001b[0m\u001b[0;34m.\u001b[0m\u001b[0mauthenticate_user\u001b[0m\u001b[0;34m(\u001b[0m\u001b[0;34m)\u001b[0m\u001b[0;34m\u001b[0m\u001b[0;34m\u001b[0m\u001b[0m\n\u001b[0m\u001b[1;32m      3\u001b[0m \u001b[0;34m\u001b[0m\u001b[0m\n\u001b[1;32m      4\u001b[0m \u001b[0;32mfrom\u001b[0m \u001b[0mgoogle\u001b[0m\u001b[0;34m.\u001b[0m\u001b[0mcolab\u001b[0m \u001b[0;32mimport\u001b[0m \u001b[0mdrive\u001b[0m\u001b[0;34m\u001b[0m\u001b[0;34m\u001b[0m\u001b[0m\n\u001b[1;32m      5\u001b[0m \u001b[0mdrive\u001b[0m\u001b[0;34m.\u001b[0m\u001b[0mmount\u001b[0m\u001b[0;34m(\u001b[0m\u001b[0;34m'/content/gdrive'\u001b[0m\u001b[0;34m,\u001b[0m \u001b[0mforce_remount\u001b[0m\u001b[0;34m=\u001b[0m\u001b[0;32mFalse\u001b[0m\u001b[0;34m)\u001b[0m\u001b[0;34m\u001b[0m\u001b[0;34m\u001b[0m\u001b[0m\n",
      "\u001b[0;32m/usr/local/lib/python3.6/dist-packages/google/colab/auth.py\u001b[0m in \u001b[0;36mauthenticate_user\u001b[0;34m(clear_output)\u001b[0m\n\u001b[1;32m    145\u001b[0m     \u001b[0mcontext_manager\u001b[0m \u001b[0;34m=\u001b[0m \u001b[0m_output\u001b[0m\u001b[0;34m.\u001b[0m\u001b[0mtemporary\u001b[0m \u001b[0;32mif\u001b[0m \u001b[0mclear_output\u001b[0m \u001b[0;32melse\u001b[0m \u001b[0m_noop\u001b[0m\u001b[0;34m\u001b[0m\u001b[0;34m\u001b[0m\u001b[0m\n\u001b[1;32m    146\u001b[0m     \u001b[0;32mwith\u001b[0m \u001b[0mcontext_manager\u001b[0m\u001b[0;34m(\u001b[0m\u001b[0;34m)\u001b[0m\u001b[0;34m:\u001b[0m\u001b[0;34m\u001b[0m\u001b[0;34m\u001b[0m\u001b[0m\n\u001b[0;32m--> 147\u001b[0;31m       \u001b[0m_gcloud_login\u001b[0m\u001b[0;34m(\u001b[0m\u001b[0;34m)\u001b[0m\u001b[0;34m\u001b[0m\u001b[0;34m\u001b[0m\u001b[0m\n\u001b[0m\u001b[1;32m    148\u001b[0m     \u001b[0m_install_adc\u001b[0m\u001b[0;34m(\u001b[0m\u001b[0;34m)\u001b[0m\u001b[0;34m\u001b[0m\u001b[0;34m\u001b[0m\u001b[0m\n\u001b[1;32m    149\u001b[0m     \u001b[0mcolab_tpu_addr\u001b[0m \u001b[0;34m=\u001b[0m \u001b[0m_os\u001b[0m\u001b[0;34m.\u001b[0m\u001b[0menviron\u001b[0m\u001b[0;34m.\u001b[0m\u001b[0mget\u001b[0m\u001b[0;34m(\u001b[0m\u001b[0;34m'COLAB_TPU_ADDR'\u001b[0m\u001b[0;34m,\u001b[0m \u001b[0;34m''\u001b[0m\u001b[0;34m)\u001b[0m\u001b[0;34m\u001b[0m\u001b[0;34m\u001b[0m\u001b[0m\n",
      "\u001b[0;32m/usr/local/lib/python3.6/dist-packages/google/colab/auth.py\u001b[0m in \u001b[0;36m_gcloud_login\u001b[0;34m()\u001b[0m\n\u001b[1;32m     89\u001b[0m     \u001b[0;31m# https://github.com/jupyter/notebook/issues/3159\u001b[0m\u001b[0;34m\u001b[0m\u001b[0;34m\u001b[0m\u001b[0;34m\u001b[0m\u001b[0m\n\u001b[1;32m     90\u001b[0m     \u001b[0mprompt\u001b[0m \u001b[0;34m=\u001b[0m \u001b[0mprompt\u001b[0m\u001b[0;34m.\u001b[0m\u001b[0mrstrip\u001b[0m\u001b[0;34m(\u001b[0m\u001b[0;34m)\u001b[0m\u001b[0;34m\u001b[0m\u001b[0;34m\u001b[0m\u001b[0m\n\u001b[0;32m---> 91\u001b[0;31m     \u001b[0mcode\u001b[0m \u001b[0;34m=\u001b[0m \u001b[0m_getpass\u001b[0m\u001b[0;34m.\u001b[0m\u001b[0mgetpass\u001b[0m\u001b[0;34m(\u001b[0m\u001b[0mprompt\u001b[0m \u001b[0;34m+\u001b[0m \u001b[0;34m'\\n\\nEnter verification code: '\u001b[0m\u001b[0;34m)\u001b[0m\u001b[0;34m\u001b[0m\u001b[0;34m\u001b[0m\u001b[0m\n\u001b[0m\u001b[1;32m     92\u001b[0m     \u001b[0mgcloud_process\u001b[0m\u001b[0;34m.\u001b[0m\u001b[0mcommunicate\u001b[0m\u001b[0;34m(\u001b[0m\u001b[0mcode\u001b[0m\u001b[0;34m.\u001b[0m\u001b[0mstrip\u001b[0m\u001b[0;34m(\u001b[0m\u001b[0;34m)\u001b[0m\u001b[0;34m)\u001b[0m\u001b[0;34m\u001b[0m\u001b[0;34m\u001b[0m\u001b[0m\n\u001b[1;32m     93\u001b[0m   \u001b[0;32mfinally\u001b[0m\u001b[0;34m:\u001b[0m\u001b[0;34m\u001b[0m\u001b[0;34m\u001b[0m\u001b[0m\n",
      "\u001b[0;32m/usr/local/lib/python3.6/dist-packages/ipykernel/kernelbase.py\u001b[0m in \u001b[0;36mgetpass\u001b[0;34m(self, prompt, stream)\u001b[0m\n\u001b[1;32m    686\u001b[0m             \u001b[0mself\u001b[0m\u001b[0;34m.\u001b[0m\u001b[0m_parent_ident\u001b[0m\u001b[0;34m,\u001b[0m\u001b[0;34m\u001b[0m\u001b[0;34m\u001b[0m\u001b[0m\n\u001b[1;32m    687\u001b[0m             \u001b[0mself\u001b[0m\u001b[0;34m.\u001b[0m\u001b[0m_parent_header\u001b[0m\u001b[0;34m,\u001b[0m\u001b[0;34m\u001b[0m\u001b[0;34m\u001b[0m\u001b[0m\n\u001b[0;32m--> 688\u001b[0;31m             \u001b[0mpassword\u001b[0m\u001b[0;34m=\u001b[0m\u001b[0;32mTrue\u001b[0m\u001b[0;34m,\u001b[0m\u001b[0;34m\u001b[0m\u001b[0;34m\u001b[0m\u001b[0m\n\u001b[0m\u001b[1;32m    689\u001b[0m         )\n\u001b[1;32m    690\u001b[0m \u001b[0;34m\u001b[0m\u001b[0m\n",
      "\u001b[0;32m/usr/local/lib/python3.6/dist-packages/ipykernel/kernelbase.py\u001b[0m in \u001b[0;36m_input_request\u001b[0;34m(self, prompt, ident, parent, password)\u001b[0m\n\u001b[1;32m    733\u001b[0m             \u001b[0;32mexcept\u001b[0m \u001b[0mKeyboardInterrupt\u001b[0m\u001b[0;34m:\u001b[0m\u001b[0;34m\u001b[0m\u001b[0;34m\u001b[0m\u001b[0m\n\u001b[1;32m    734\u001b[0m                 \u001b[0;31m# re-raise KeyboardInterrupt, to truncate traceback\u001b[0m\u001b[0;34m\u001b[0m\u001b[0;34m\u001b[0m\u001b[0;34m\u001b[0m\u001b[0m\n\u001b[0;32m--> 735\u001b[0;31m                 \u001b[0;32mraise\u001b[0m \u001b[0mKeyboardInterrupt\u001b[0m\u001b[0;34m\u001b[0m\u001b[0;34m\u001b[0m\u001b[0m\n\u001b[0m\u001b[1;32m    736\u001b[0m             \u001b[0;32melse\u001b[0m\u001b[0;34m:\u001b[0m\u001b[0;34m\u001b[0m\u001b[0;34m\u001b[0m\u001b[0m\n\u001b[1;32m    737\u001b[0m                 \u001b[0;32mbreak\u001b[0m\u001b[0;34m\u001b[0m\u001b[0;34m\u001b[0m\u001b[0m\n",
      "\u001b[0;31mKeyboardInterrupt\u001b[0m: "
     ]
    }
   ],
   "source": [
    "from google.colab import auth\n",
    "auth.authenticate_user()\n",
    "\n",
    "from google.colab import drive\n",
    "drive.mount('/content/gdrive', force_remount=False)"
   ]
  },
  {
   "cell_type": "code",
   "execution_count": 1,
   "metadata": {
    "colab": {
     "base_uri": "https://localhost:8080/",
     "height": 204
    },
    "colab_type": "code",
    "executionInfo": {
     "elapsed": 5370,
     "status": "ok",
     "timestamp": 1582950893422,
     "user": {
      "displayName": "정정호",
      "photoUrl": "",
      "userId": "01189220954616800785"
     },
     "user_tz": -540
    },
    "id": "YggPnFUnPYPG",
    "outputId": "33faf97e-48df-45b2-8e96-8471a4a89d1b"
   },
   "outputs": [
    {
     "data": {
      "text/html": [
       "<div>\n",
       "<style scoped>\n",
       "    .dataframe tbody tr th:only-of-type {\n",
       "        vertical-align: middle;\n",
       "    }\n",
       "\n",
       "    .dataframe tbody tr th {\n",
       "        vertical-align: top;\n",
       "    }\n",
       "\n",
       "    .dataframe thead th {\n",
       "        text-align: right;\n",
       "    }\n",
       "</style>\n",
       "<table border=\"1\" class=\"dataframe\">\n",
       "  <thead>\n",
       "    <tr style=\"text-align: right;\">\n",
       "      <th></th>\n",
       "      <th>tokens</th>\n",
       "      <th>vec</th>\n",
       "      <th>genre_ind</th>\n",
       "    </tr>\n",
       "  </thead>\n",
       "  <tbody>\n",
       "    <tr>\n",
       "      <th>0</th>\n",
       "      <td>[7548, 4844, 5497, 1954, 1007, 10096, 8314, 54...</td>\n",
       "      <td>[1, 0, 0, 0, 0, 0]</td>\n",
       "      <td>0</td>\n",
       "    </tr>\n",
       "    <tr>\n",
       "      <th>1</th>\n",
       "      <td>[9757, 12907, 12640, 745, 15875, 7807, 8307, 1...</td>\n",
       "      <td>[0, 0, 0, 0, 0, 1]</td>\n",
       "      <td>5</td>\n",
       "    </tr>\n",
       "    <tr>\n",
       "      <th>2</th>\n",
       "      <td>[14123, 7602, 12117, 19279, 15143, 12034, 1877...</td>\n",
       "      <td>[0, 0, 0, 0, 0, 1]</td>\n",
       "      <td>5</td>\n",
       "    </tr>\n",
       "    <tr>\n",
       "      <th>3</th>\n",
       "      <td>[2536, 16182, 16671, 5034, 12907, 13487, 7785,...</td>\n",
       "      <td>[1, 0, 0, 0, 0, 0]</td>\n",
       "      <td>0</td>\n",
       "    </tr>\n",
       "    <tr>\n",
       "      <th>4</th>\n",
       "      <td>[16942, 9449, 15636, 12473, 667, 6428, 2869, 8...</td>\n",
       "      <td>[0, 1, 0, 0, 0, 0]</td>\n",
       "      <td>1</td>\n",
       "    </tr>\n",
       "  </tbody>\n",
       "</table>\n",
       "</div>"
      ],
      "text/plain": [
       "                                              tokens  ... genre_ind\n",
       "0  [7548, 4844, 5497, 1954, 1007, 10096, 8314, 54...  ...         0\n",
       "1  [9757, 12907, 12640, 745, 15875, 7807, 8307, 1...  ...         5\n",
       "2  [14123, 7602, 12117, 19279, 15143, 12034, 1877...  ...         5\n",
       "3  [2536, 16182, 16671, 5034, 12907, 13487, 7785,...  ...         0\n",
       "4  [16942, 9449, 15636, 12473, 667, 6428, 2869, 8...  ...         1\n",
       "\n",
       "[5 rows x 3 columns]"
      ]
     },
     "execution_count": 1,
     "metadata": {
      "tags": []
     },
     "output_type": "execute_result"
    }
   ],
   "source": [
    "import pandas as pd\n",
    "data_load = pd.read_csv(\"/content/sample_data/data4.csv\")\n",
    "\n",
    "data_load.head()"
   ]
  },
  {
   "cell_type": "code",
   "execution_count": 2,
   "metadata": {
    "colab": {
     "base_uri": "https://localhost:8080/",
     "height": 53
    },
    "colab_type": "code",
    "executionInfo": {
     "elapsed": 5868,
     "status": "ok",
     "timestamp": 1582950894245,
     "user": {
      "displayName": "정정호",
      "photoUrl": "",
      "userId": "01189220954616800785"
     },
     "user_tz": -540
    },
    "id": "1gLeHLaXOVgx",
    "outputId": "9c5918a4-f0da-43e0-ac89-efbd38c248b7"
   },
   "outputs": [
    {
     "name": "stderr",
     "output_type": "stream",
     "text": [
      "/usr/local/lib/python3.6/dist-packages/IPython/core/interactiveshell.py:2718: DtypeWarning: Columns (10) have mixed types. Specify dtype option on import or set low_memory=False.\n",
      "  interactivity=interactivity, compiler=compiler, result=result)\n"
     ]
    }
   ],
   "source": [
    "import pandas as pd\n",
    "import matplotlib.pyplot as plt\n",
    "import numpy as np\n",
    "\n",
    "data = pd.read_csv(\"/content/sample_data/movies_metadata.csv\")"
   ]
  },
  {
   "cell_type": "code",
   "execution_count": 0,
   "metadata": {
    "colab": {},
    "colab_type": "code",
    "id": "Ye-VeGdhOeQc"
   },
   "outputs": [],
   "source": [
    "# \"장르\" column 정리\n",
    "genres = []\n",
    "for list_ in data[\"genres\"].apply(lambda x: eval(x)):\n",
    "    genres.extend(list_) if len(list_) > 0 else genres.append(np.nan)\n",
    "    \n",
    "# Unique Genre-Id Tuple\n",
    "genres_unique = [set(tuple(x.items()) if type(x) == dict else None for x in genres)]"
   ]
  },
  {
   "cell_type": "code",
   "execution_count": 0,
   "metadata": {
    "colab": {},
    "colab_type": "code",
    "id": "m0JwABS2Odls"
   },
   "outputs": [],
   "source": [
    "# retain genre by name\n",
    "\n",
    "genre_byname = data[\"genres\"].apply(lambda x: [*map(lambda y: y[\"name\"], eval(x))] if len(eval(x)) > 0 else np.nan)"
   ]
  },
  {
   "cell_type": "code",
   "execution_count": 0,
   "metadata": {
    "colab": {},
    "colab_type": "code",
    "id": "tYO3EgkKO2Zc"
   },
   "outputs": [],
   "source": [
    "# generate new_data with necessary data\n",
    "\n",
    "new_data = pd.DataFrame(columns=[\"original_title\",\"overview\",\"genres\"])\n",
    "\n",
    "for i in new_data.columns:\n",
    "  new_data[i] = data[i].copy()\n",
    "\n",
    "new_data[\"genres\"] = genre_byname\n",
    "\n",
    "new_data = new_data.dropna().reset_index(drop=True)"
   ]
  },
  {
   "cell_type": "code",
   "execution_count": 0,
   "metadata": {
    "colab": {},
    "colab_type": "code",
    "id": "77uWy7qCO3od"
   },
   "outputs": [],
   "source": [
    "# extract genres by single list (set(all_genres)=unique set of genres)\n",
    "all_genres = []\n",
    "for i in new_data[\"genres\"]:\n",
    "  all_genres.extend(i)"
   ]
  },
  {
   "cell_type": "code",
   "execution_count": 7,
   "metadata": {
    "colab": {
     "base_uri": "https://localhost:8080/",
     "height": 1000
    },
    "colab_type": "code",
    "executionInfo": {
     "elapsed": 7135,
     "status": "ok",
     "timestamp": 1582950896727,
     "user": {
      "displayName": "정정호",
      "photoUrl": "",
      "userId": "01189220954616800785"
     },
     "user_tz": -540
    },
    "id": "xw3Taq_fQmI6",
    "outputId": "6bccfc40-1a80-4382-ade1-a15b57a909a9"
   },
   "outputs": [
    {
     "name": "stdout",
     "output_type": "stream",
     "text": [
      "Genre:  Telescene Film Group Productions \n",
      "Count:  1\n",
      "---------------\n",
      "Genre:  Western \n",
      "Count:  1035\n",
      "---------------\n",
      "Genre:  War \n",
      "Count:  1310\n",
      "---------------\n",
      "Genre:  Sentai Filmworks \n",
      "Count:  1\n",
      "---------------\n",
      "Genre:  Drama \n",
      "Count:  20023\n",
      "---------------\n",
      "Genre:  Music \n",
      "Count:  1588\n",
      "---------------\n",
      "Genre:  Aniplex \n",
      "Count:  1\n",
      "---------------\n",
      "Genre:  The Cartel \n",
      "Count:  1\n",
      "---------------\n",
      "Genre:  Pulser Productions \n",
      "Count:  1\n",
      "---------------\n",
      "Genre:  Fantasy \n",
      "Count:  2290\n",
      "---------------\n",
      "Genre:  Vision View Entertainment \n",
      "Count:  1\n",
      "---------------\n",
      "Genre:  Animation \n",
      "Count:  1920\n",
      "---------------\n",
      "Genre:  Romance \n",
      "Count:  6673\n",
      "---------------\n",
      "Genre:  History \n",
      "Count:  1379\n",
      "---------------\n",
      "Genre:  TV Movie \n",
      "Count:  751\n",
      "---------------\n",
      "Genre:  GoHands \n",
      "Count:  1\n",
      "---------------\n",
      "Genre:  Science Fiction \n",
      "Count:  3028\n",
      "---------------\n",
      "Genre:  Crime \n",
      "Count:  4269\n",
      "---------------\n",
      "Genre:  Adventure \n",
      "Count:  3470\n",
      "---------------\n",
      "Genre:  Odyssey Media \n",
      "Count:  1\n",
      "---------------\n",
      "Genre:  Foreign \n",
      "Count:  1599\n",
      "---------------\n",
      "Genre:  Rogue State \n",
      "Count:  1\n",
      "---------------\n",
      "Genre:  Thriller \n",
      "Count:  7586\n",
      "---------------\n",
      "Genre:  Mystery \n",
      "Count:  2451\n",
      "---------------\n",
      "Genre:  Mardock Scramble Production Committee \n",
      "Count:  1\n",
      "---------------\n",
      "Genre:  Horror \n",
      "Count:  4660\n",
      "---------------\n",
      "Genre:  Carousel Productions \n",
      "Count:  1\n",
      "---------------\n",
      "Genre:  Action \n",
      "Count:  6565\n",
      "---------------\n",
      "Genre:  Documentary \n",
      "Count:  3886\n",
      "---------------\n",
      "Genre:  Comedy \n",
      "Count:  12806\n",
      "---------------\n",
      "Genre:  Family \n",
      "Count:  2732\n",
      "---------------\n",
      "Genre:  BROSTA TV \n",
      "Count:  1\n",
      "---------------\n"
     ]
    }
   ],
   "source": [
    "# exclude insignificant genres\n",
    "exclude_list = []\n",
    "genres_dict = dict()\n",
    "for i in set(all_genres):\n",
    "    print(\"Genre: \",i, \"\\nCount: \",all_genres.count(i))\n",
    "    genres_dict[i] = all_genres.count(i)\n",
    "    print(\"-\"*15)\n",
    "    if all_genres.count(i) == 1:\n",
    "        exclude_list.append(i)\n",
    "\n",
    "exclude_list.extend([\"TV Movie\",\"Foreign\", \"Animation\"])"
   ]
  },
  {
   "cell_type": "code",
   "execution_count": 0,
   "metadata": {
    "colab": {},
    "colab_type": "code",
    "id": "FgYPjBj2QmFR"
   },
   "outputs": [],
   "source": [
    "genres_sorted = [j[0] for j in sorted(genres_dict.items(), key = lambda x: x[1])]\n",
    "exclude_list = genres_sorted[:-5]\n",
    "#exclude_list.extend([\"Documentary\",\"Horror\"])"
   ]
  },
  {
   "cell_type": "code",
   "execution_count": 0,
   "metadata": {
    "colab": {},
    "colab_type": "code",
    "id": "jhAFGMdcQmDG"
   },
   "outputs": [],
   "source": [
    "exclude_list.remove(\"Documentary\")\n",
    "exclude_list.remove(\"Horror\")"
   ]
  },
  {
   "cell_type": "code",
   "execution_count": 0,
   "metadata": {
    "colab": {},
    "colab_type": "code",
    "id": "HwbJTsm3QmAN"
   },
   "outputs": [],
   "source": [
    "genres_excluded = []\n",
    "for i in new_data[\"genres\"]:\n",
    "    new = list(set(i) - set(exclude_list))\n",
    "    genres_excluded.append(new if len(new) > 0 else np.nan)"
   ]
  },
  {
   "cell_type": "code",
   "execution_count": 11,
   "metadata": {
    "colab": {
     "base_uri": "https://localhost:8080/",
     "height": 1000
    },
    "colab_type": "code",
    "executionInfo": {
     "elapsed": 6311,
     "status": "ok",
     "timestamp": 1582950896731,
     "user": {
      "displayName": "정정호",
      "photoUrl": "",
      "userId": "01189220954616800785"
     },
     "user_tz": -540
    },
    "id": "QB-3_P0SQl99",
    "outputId": "aad6d869-ecb6-422a-8a77-27c7f7698191"
   },
   "outputs": [
    {
     "data": {
      "text/plain": [
       "[['Comedy'],\n",
       " nan,\n",
       " ['Comedy', 'Romance'],\n",
       " ['Comedy', 'Drama', 'Romance'],\n",
       " ['Comedy'],\n",
       " ['Thriller', 'Drama', 'Action'],\n",
       " ['Comedy', 'Romance'],\n",
       " ['Drama', 'Action'],\n",
       " ['Thriller', 'Action'],\n",
       " ['Thriller', 'Action'],\n",
       " ['Comedy', 'Drama', 'Romance'],\n",
       " ['Comedy', 'Horror'],\n",
       " nan,\n",
       " ['Drama'],\n",
       " ['Action'],\n",
       " ['Drama'],\n",
       " ['Drama', 'Romance'],\n",
       " ['Comedy'],\n",
       " ['Comedy'],\n",
       " ['Comedy', 'Action'],\n",
       " ['Comedy', 'Thriller'],\n",
       " ['Thriller', 'Drama'],\n",
       " ['Thriller', 'Action'],\n",
       " ['Thriller', 'Drama'],\n",
       " ['Drama', 'Romance'],\n",
       " ['Drama'],\n",
       " ['Comedy', 'Drama'],\n",
       " ['Drama', 'Romance'],\n",
       " nan,\n",
       " ['Drama'],\n",
       " ['Drama'],\n",
       " ['Thriller'],\n",
       " ['Comedy', 'Drama'],\n",
       " ['Drama', 'Romance'],\n",
       " ['Drama'],\n",
       " ['Drama'],\n",
       " ['Comedy', 'Romance'],\n",
       " ['Comedy', 'Drama', 'Romance'],\n",
       " ['Drama'],\n",
       " ['Drama'],\n",
       " ['Drama', 'Action'],\n",
       " ['Drama', 'Romance'],\n",
       " ['Action'],\n",
       " ['Comedy', 'Drama', 'Thriller'],\n",
       " ['Drama', 'Romance'],\n",
       " ['Thriller'],\n",
       " ['Drama'],\n",
       " ['Drama', 'Romance'],\n",
       " ['Thriller', 'Drama'],\n",
       " ['Thriller', 'Drama', 'Action'],\n",
       " ['Comedy', 'Romance'],\n",
       " ['Drama'],\n",
       " ['Comedy', 'Action'],\n",
       " ['Drama'],\n",
       " ['Comedy', 'Drama', 'Romance'],\n",
       " ['Comedy', 'Drama', 'Romance'],\n",
       " ['Thriller', 'Drama'],\n",
       " nan,\n",
       " ['Thriller', 'Drama'],\n",
       " ['Drama'],\n",
       " ['Comedy'],\n",
       " ['Comedy', 'Romance'],\n",
       " ['Comedy'],\n",
       " ['Action'],\n",
       " ['Drama'],\n",
       " ['Comedy', 'Romance'],\n",
       " ['Comedy'],\n",
       " ['Thriller', 'Action', 'Horror'],\n",
       " ['Thriller', 'Romance', 'Action'],\n",
       " ['Comedy', 'Drama', 'Romance'],\n",
       " ['Drama'],\n",
       " ['Drama', 'Romance'],\n",
       " ['Comedy'],\n",
       " ['Horror'],\n",
       " ['Documentary'],\n",
       " ['Thriller', 'Drama'],\n",
       " ['Thriller', 'Drama'],\n",
       " ['Drama'],\n",
       " ['Drama'],\n",
       " ['Comedy', 'Drama'],\n",
       " ['Drama', 'Romance'],\n",
       " ['Drama', 'Romance'],\n",
       " ['Drama', 'Action'],\n",
       " ['Comedy'],\n",
       " ['Comedy'],\n",
       " ['Thriller', 'Drama'],\n",
       " ['Drama'],\n",
       " ['Thriller', 'Drama', 'Romance', 'Horror'],\n",
       " ['Comedy', 'Romance', 'Horror'],\n",
       " ['Comedy', 'Drama', 'Romance'],\n",
       " ['Thriller', 'Drama', 'Action'],\n",
       " ['Comedy'],\n",
       " ['Drama'],\n",
       " ['Thriller', 'Drama', 'Action'],\n",
       " ['Documentary'],\n",
       " ['Thriller', 'Drama'],\n",
       " ['Comedy', 'Drama'],\n",
       " ['Comedy', 'Romance'],\n",
       " ['Thriller', 'Drama'],\n",
       " ['Comedy'],\n",
       " ['Drama', 'Romance'],\n",
       " ['Comedy', 'Drama'],\n",
       " ['Comedy', 'Action'],\n",
       " ['Documentary'],\n",
       " nan,\n",
       " ['Drama', 'Action'],\n",
       " ['Drama'],\n",
       " ['Thriller', 'Comedy', 'Action'],\n",
       " ['Thriller', 'Drama'],\n",
       " ['Drama'],\n",
       " ['Comedy'],\n",
       " ['Documentary', 'Drama'],\n",
       " ['Comedy', 'Drama'],\n",
       " ['Comedy', 'Romance'],\n",
       " ['Comedy', 'Drama'],\n",
       " ['Comedy', 'Drama', 'Action'],\n",
       " ['Drama'],\n",
       " ['Comedy', 'Romance'],\n",
       " ['Comedy', 'Drama', 'Romance'],\n",
       " ['Drama', 'Romance'],\n",
       " ['Comedy', 'Romance'],\n",
       " nan,\n",
       " ['Drama'],\n",
       " ['Comedy', 'Romance'],\n",
       " ['Comedy', 'Drama'],\n",
       " ['Drama', 'Romance'],\n",
       " ['Thriller', 'Romance', 'Action'],\n",
       " ['Comedy', 'Drama', 'Romance'],\n",
       " ['Documentary'],\n",
       " ['Comedy'],\n",
       " ['Documentary'],\n",
       " ['Comedy'],\n",
       " ['Drama'],\n",
       " ['Drama', 'Romance'],\n",
       " ['Comedy'],\n",
       " ['Drama'],\n",
       " ['Comedy', 'Drama', 'Romance'],\n",
       " ['Comedy', 'Thriller', 'Action'],\n",
       " ['Drama', 'Action'],\n",
       " ['Drama'],\n",
       " ['Comedy', 'Drama', 'Romance'],\n",
       " ['Thriller', 'Drama', 'Comedy'],\n",
       " ['Drama'],\n",
       " nan,\n",
       " ['Drama', 'Horror'],\n",
       " ['Action'],\n",
       " ['Drama', 'Romance'],\n",
       " ['Thriller', 'Drama'],\n",
       " ['Comedy'],\n",
       " ['Comedy', 'Action'],\n",
       " ['Comedy'],\n",
       " ['Drama'],\n",
       " ['Thriller', 'Drama', 'Action'],\n",
       " ['Thriller', 'Drama', 'Action'],\n",
       " ['Documentary'],\n",
       " ['Thriller', 'Action'],\n",
       " ['Thriller', 'Drama'],\n",
       " ['Thriller', 'Action'],\n",
       " ['Comedy', 'Drama', 'Action'],\n",
       " ['Drama'],\n",
       " ['Drama', 'Romance', 'Action'],\n",
       " nan,\n",
       " ['Thriller', 'Drama', 'Action'],\n",
       " ['Comedy', 'Drama', 'Romance'],\n",
       " ['Thriller', 'Drama', 'Action'],\n",
       " nan,\n",
       " ['Comedy', 'Drama'],\n",
       " ['Drama'],\n",
       " ['Comedy', 'Drama'],\n",
       " ['Thriller', 'Horror'],\n",
       " ['Comedy', 'Drama'],\n",
       " ['Drama', 'Romance'],\n",
       " ['Comedy', 'Romance'],\n",
       " ['Action'],\n",
       " ['Comedy', 'Drama', 'Romance'],\n",
       " ['Thriller'],\n",
       " ['Thriller', 'Horror'],\n",
       " ['Thriller', 'Drama', 'Action'],\n",
       " ['Comedy'],\n",
       " ['Comedy'],\n",
       " ['Thriller', 'Horror'],\n",
       " ['Comedy', 'Drama'],\n",
       " ['Drama'],\n",
       " ['Drama', 'Romance'],\n",
       " ['Documentary'],\n",
       " ['Drama'],\n",
       " ['Comedy', 'Drama'],\n",
       " ['Comedy'],\n",
       " ['Action', 'Horror'],\n",
       " ['Drama'],\n",
       " ['Thriller', 'Drama'],\n",
       " ['Drama', 'Romance'],\n",
       " ['Thriller'],\n",
       " ['Drama'],\n",
       " ['Drama', 'Romance'],\n",
       " ['Comedy'],\n",
       " ['Thriller', 'Action'],\n",
       " ['Comedy', 'Drama'],\n",
       " ['Documentary'],\n",
       " ['Drama', 'Romance'],\n",
       " ['Action'],\n",
       " ['Drama'],\n",
       " ['Action'],\n",
       " ['Drama'],\n",
       " ['Comedy', 'Action'],\n",
       " ['Drama'],\n",
       " ['Drama'],\n",
       " ['Drama', 'Romance'],\n",
       " ['Comedy'],\n",
       " ['Thriller', 'Drama'],\n",
       " ['Comedy', 'Drama'],\n",
       " ['Drama'],\n",
       " ['Thriller', 'Drama', 'Horror'],\n",
       " ['Drama', 'Romance'],\n",
       " ['Comedy'],\n",
       " ['Comedy', 'Drama', 'Romance'],\n",
       " ['Thriller', 'Drama', 'Romance'],\n",
       " ['Thriller'],\n",
       " ['Thriller', 'Action'],\n",
       " ['Comedy'],\n",
       " ['Thriller', 'Drama'],\n",
       " ['Drama'],\n",
       " ['Comedy'],\n",
       " ['Comedy', 'Drama', 'Romance'],\n",
       " ['Drama'],\n",
       " ['Thriller', 'Romance', 'Comedy'],\n",
       " ['Comedy', 'Drama'],\n",
       " ['Comedy', 'Romance'],\n",
       " ['Comedy', 'Drama', 'Romance'],\n",
       " ['Drama', 'Action'],\n",
       " ['Comedy', 'Romance'],\n",
       " ['Thriller', 'Drama'],\n",
       " ['Drama'],\n",
       " ['Drama'],\n",
       " ['Drama'],\n",
       " nan,\n",
       " ['Thriller', 'Drama', 'Action'],\n",
       " ['Documentary'],\n",
       " ['Drama'],\n",
       " ['Comedy'],\n",
       " ['Drama', 'Romance'],\n",
       " ['Comedy', 'Drama'],\n",
       " ['Thriller', 'Action'],\n",
       " ['Comedy', 'Drama', 'Romance'],\n",
       " ['Romance', 'Horror'],\n",
       " ['Drama', 'Romance'],\n",
       " ['Comedy'],\n",
       " ['Comedy', 'Romance'],\n",
       " ['Thriller', 'Drama', 'Action'],\n",
       " ['Comedy'],\n",
       " ['Thriller', 'Drama', 'Action'],\n",
       " ['Action'],\n",
       " ['Drama', 'Romance'],\n",
       " ['Drama'],\n",
       " ['Drama'],\n",
       " ['Drama'],\n",
       " ['Drama', 'Romance'],\n",
       " ['Drama', 'Romance'],\n",
       " ['Comedy'],\n",
       " ['Drama', 'Action'],\n",
       " ['Drama'],\n",
       " ['Drama', 'Romance'],\n",
       " ['Drama'],\n",
       " ['Comedy', 'Drama'],\n",
       " ['Drama', 'Romance', 'Horror'],\n",
       " ['Comedy', 'Action'],\n",
       " ['Comedy', 'Drama', 'Romance'],\n",
       " ['Comedy', 'Romance'],\n",
       " ['Drama'],\n",
       " ['Comedy', 'Romance'],\n",
       " ['Comedy', 'Drama'],\n",
       " ['Drama'],\n",
       " ['Comedy', 'Drama'],\n",
       " ['Thriller', 'Drama'],\n",
       " ['Drama'],\n",
       " ['Thriller', 'Drama', 'Action'],\n",
       " ['Horror'],\n",
       " ['Thriller', 'Action'],\n",
       " ['Drama', 'Romance'],\n",
       " ['Thriller', 'Drama'],\n",
       " ['Comedy', 'Drama', 'Romance'],\n",
       " ['Drama'],\n",
       " ['Thriller', 'Drama', 'Romance'],\n",
       " ['Thriller', 'Drama', 'Action'],\n",
       " ['Thriller', 'Drama'],\n",
       " ['Comedy', 'Drama', 'Romance'],\n",
       " ['Comedy', 'Drama', 'Romance'],\n",
       " ['Thriller'],\n",
       " ['Drama'],\n",
       " ['Comedy', 'Drama'],\n",
       " ['Drama', 'Romance'],\n",
       " ['Drama'],\n",
       " ['Drama'],\n",
       " ['Drama'],\n",
       " ['Action'],\n",
       " ['Comedy', 'Drama'],\n",
       " ['Drama', 'Romance'],\n",
       " ['Drama'],\n",
       " ['Comedy', 'Drama'],\n",
       " ['Drama'],\n",
       " ['Comedy'],\n",
       " ['Drama', 'Horror'],\n",
       " ['Comedy', 'Drama'],\n",
       " nan,\n",
       " ['Drama'],\n",
       " ['Thriller', 'Action'],\n",
       " ['Action'],\n",
       " ['Comedy', 'Drama'],\n",
       " ['Drama'],\n",
       " ['Thriller'],\n",
       " ['Thriller', 'Drama'],\n",
       " ['Comedy', 'Drama'],\n",
       " ['Comedy'],\n",
       " ['Comedy', 'Drama', 'Romance'],\n",
       " ['Comedy'],\n",
       " ['Drama', 'Romance'],\n",
       " ['Comedy', 'Action'],\n",
       " ['Comedy', 'Thriller', 'Horror'],\n",
       " ['Thriller', 'Action'],\n",
       " ['Thriller', 'Horror'],\n",
       " ['Drama', 'Romance'],\n",
       " ['Thriller', 'Horror'],\n",
       " ['Comedy'],\n",
       " ['Drama', 'Romance'],\n",
       " ['Thriller'],\n",
       " ['Drama'],\n",
       " ['Drama', 'Romance'],\n",
       " ['Thriller', 'Action'],\n",
       " ['Comedy', 'Drama', 'Romance'],\n",
       " ['Drama'],\n",
       " ['Comedy', 'Romance'],\n",
       " ['Comedy', 'Drama', 'Romance'],\n",
       " ['Comedy', 'Drama'],\n",
       " ['Comedy'],\n",
       " ['Comedy', 'Drama'],\n",
       " ['Drama'],\n",
       " ['Thriller', 'Drama', 'Romance'],\n",
       " ['Comedy', 'Thriller', 'Action'],\n",
       " ['Thriller', 'Drama', 'Action'],\n",
       " ['Thriller', 'Drama'],\n",
       " ['Comedy', 'Drama', 'Romance'],\n",
       " ['Comedy', 'Drama'],\n",
       " ['Thriller', 'Action'],\n",
       " ['Drama'],\n",
       " ['Comedy'],\n",
       " ['Comedy', 'Drama', 'Romance'],\n",
       " ['Comedy', 'Drama', 'Romance'],\n",
       " ['Drama', 'Romance'],\n",
       " ['Comedy', 'Drama', 'Romance'],\n",
       " ['Comedy', 'Romance', 'Action'],\n",
       " ['Comedy', 'Drama', 'Romance'],\n",
       " ['Drama'],\n",
       " ['Documentary'],\n",
       " ['Drama'],\n",
       " ['Drama'],\n",
       " ['Thriller', 'Horror'],\n",
       " ['Comedy', 'Romance'],\n",
       " ['Comedy', 'Drama', 'Action'],\n",
       " ['Drama'],\n",
       " ['Comedy'],\n",
       " ['Comedy', 'Drama'],\n",
       " ['Drama'],\n",
       " ['Thriller', 'Drama'],\n",
       " ['Comedy'],\n",
       " ['Drama'],\n",
       " ['Thriller', 'Action'],\n",
       " ['Action'],\n",
       " ['Comedy', 'Romance'],\n",
       " ['Thriller', 'Action'],\n",
       " ['Thriller', 'Action'],\n",
       " ['Drama', 'Romance'],\n",
       " nan,\n",
       " ['Drama', 'Action'],\n",
       " ['Thriller', 'Romance', 'Action'],\n",
       " ['Comedy', 'Drama'],\n",
       " ['Comedy', 'Drama'],\n",
       " ['Comedy', 'Action'],\n",
       " ['Drama'],\n",
       " ['Drama'],\n",
       " ['Action'],\n",
       " ['Drama', 'Romance'],\n",
       " nan,\n",
       " ['Thriller', 'Action'],\n",
       " ['Comedy', 'Action'],\n",
       " ['Thriller', 'Drama', 'Action'],\n",
       " ['Thriller', 'Horror'],\n",
       " ['Documentary'],\n",
       " ['Drama', 'Romance'],\n",
       " ['Thriller', 'Drama'],\n",
       " ['Thriller', 'Action'],\n",
       " ['Comedy'],\n",
       " ['Documentary'],\n",
       " ['Action'],\n",
       " ['Thriller', 'Horror'],\n",
       " ['Drama', 'Romance'],\n",
       " ['Drama'],\n",
       " ['Comedy'],\n",
       " ['Comedy'],\n",
       " ['Drama', 'Romance'],\n",
       " ['Comedy'],\n",
       " ['Comedy'],\n",
       " ['Comedy', 'Action'],\n",
       " ['Comedy', 'Drama', 'Action'],\n",
       " ['Comedy', 'Drama', 'Romance'],\n",
       " ['Comedy', 'Drama'],\n",
       " ['Comedy'],\n",
       " ['Comedy', 'Action'],\n",
       " ['Drama', 'Action'],\n",
       " ['Thriller', 'Drama'],\n",
       " ['Thriller', 'Drama', 'Action'],\n",
       " ['Drama'],\n",
       " ['Drama', 'Romance'],\n",
       " ['Thriller', 'Horror'],\n",
       " ['Drama', 'Romance'],\n",
       " ['Drama'],\n",
       " ['Comedy'],\n",
       " ['Comedy', 'Drama'],\n",
       " ['Thriller', 'Drama', 'Action'],\n",
       " ['Comedy', 'Drama', 'Action'],\n",
       " ['Comedy', 'Thriller'],\n",
       " ['Thriller', 'Action'],\n",
       " ['Comedy'],\n",
       " ['Thriller', 'Drama', 'Romance'],\n",
       " ['Comedy', 'Action'],\n",
       " ['Comedy', 'Action'],\n",
       " ['Drama'],\n",
       " ['Comedy'],\n",
       " ['Comedy', 'Drama'],\n",
       " ['Action'],\n",
       " ['Documentary'],\n",
       " ['Comedy', 'Drama', 'Romance'],\n",
       " ['Comedy'],\n",
       " ['Drama'],\n",
       " ['Comedy', 'Drama', 'Romance'],\n",
       " ['Drama'],\n",
       " ['Comedy'],\n",
       " ['Comedy', 'Drama'],\n",
       " ['Drama', 'Romance'],\n",
       " ['Thriller', 'Romance', 'Comedy'],\n",
       " ['Comedy', 'Romance'],\n",
       " ['Thriller', 'Drama'],\n",
       " nan,\n",
       " ['Thriller', 'Drama'],\n",
       " ['Thriller', 'Action'],\n",
       " ['Drama', 'Action'],\n",
       " ['Thriller', 'Drama', 'Action'],\n",
       " ['Comedy'],\n",
       " ['Drama', 'Romance'],\n",
       " ['Comedy', 'Drama'],\n",
       " ['Thriller', 'Drama'],\n",
       " ['Thriller', 'Action'],\n",
       " ['Drama', 'Action'],\n",
       " ['Comedy', 'Action'],\n",
       " ['Comedy'],\n",
       " ['Comedy', 'Drama', 'Romance'],\n",
       " ['Drama', 'Romance'],\n",
       " ['Comedy'],\n",
       " ['Comedy', 'Drama'],\n",
       " ['Comedy', 'Drama'],\n",
       " ['Comedy'],\n",
       " ['Thriller', 'Drama', 'Action'],\n",
       " ['Drama'],\n",
       " ['Comedy', 'Drama', 'Romance'],\n",
       " ['Drama'],\n",
       " ['Comedy'],\n",
       " ['Thriller', 'Action'],\n",
       " nan,\n",
       " ['Thriller'],\n",
       " ['Thriller', 'Drama', 'Action'],\n",
       " ['Drama'],\n",
       " ['Drama', 'Action'],\n",
       " ['Comedy', 'Action'],\n",
       " ['Comedy'],\n",
       " ['Comedy', 'Action'],\n",
       " ['Drama', 'Romance'],\n",
       " ['Comedy'],\n",
       " ['Drama'],\n",
       " ['Drama'],\n",
       " ['Comedy'],\n",
       " ['Drama', 'Action'],\n",
       " ['Thriller', 'Drama', 'Action'],\n",
       " ['Drama', 'Romance'],\n",
       " ['Thriller', 'Drama', 'Romance', 'Comedy'],\n",
       " ['Comedy', 'Drama', 'Romance'],\n",
       " ['Drama', 'Romance'],\n",
       " ['Comedy', 'Romance'],\n",
       " ['Comedy', 'Drama'],\n",
       " ['Comedy', 'Drama'],\n",
       " nan,\n",
       " ['Comedy', 'Drama'],\n",
       " ['Thriller', 'Drama', 'Action'],\n",
       " ['Comedy', 'Drama'],\n",
       " ['Drama', 'Romance'],\n",
       " ['Thriller', 'Drama'],\n",
       " ['Drama'],\n",
       " ['Drama', 'Romance'],\n",
       " ['Drama', 'Romance'],\n",
       " ['Drama'],\n",
       " ['Thriller', 'Horror'],\n",
       " ['Comedy', 'Drama', 'Romance'],\n",
       " ['Comedy'],\n",
       " ['Drama', 'Romance'],\n",
       " ['Comedy'],\n",
       " ['Thriller', 'Drama', 'Action'],\n",
       " ['Comedy', 'Romance'],\n",
       " ['Thriller', 'Action'],\n",
       " ['Comedy'],\n",
       " ['Thriller', 'Drama', 'Action'],\n",
       " ['Thriller', 'Drama', 'Action'],\n",
       " ['Drama', 'Romance'],\n",
       " ['Drama'],\n",
       " ['Drama'],\n",
       " ['Drama'],\n",
       " ['Drama'],\n",
       " ['Comedy', 'Drama'],\n",
       " ['Drama'],\n",
       " ['Drama'],\n",
       " ['Drama'],\n",
       " ['Comedy', 'Thriller', 'Horror'],\n",
       " ['Thriller', 'Action'],\n",
       " ['Drama', 'Romance'],\n",
       " ['Comedy', 'Drama'],\n",
       " ['Drama'],\n",
       " ['Comedy', 'Drama'],\n",
       " ['Comedy', 'Drama'],\n",
       " ['Comedy', 'Drama', 'Romance'],\n",
       " ['Thriller', 'Drama'],\n",
       " ['Thriller', 'Drama'],\n",
       " ['Comedy', 'Drama', 'Romance'],\n",
       " ['Comedy', 'Romance'],\n",
       " ['Thriller', 'Action'],\n",
       " ['Drama', 'Romance'],\n",
       " ['Comedy'],\n",
       " ['Thriller', 'Action'],\n",
       " ['Thriller', 'Action'],\n",
       " ['Drama'],\n",
       " ['Comedy', 'Drama', 'Romance'],\n",
       " nan,\n",
       " ['Comedy', 'Action'],\n",
       " ['Drama', 'Action'],\n",
       " ['Thriller', 'Drama', 'Action'],\n",
       " ['Thriller', 'Romance', 'Action'],\n",
       " ['Documentary'],\n",
       " nan,\n",
       " ['Comedy', 'Drama'],\n",
       " ['Thriller', 'Drama', 'Romance'],\n",
       " ['Comedy', 'Drama'],\n",
       " ['Drama', 'Romance'],\n",
       " ['Comedy', 'Romance'],\n",
       " ['Thriller', 'Drama', 'Horror'],\n",
       " ['Comedy', 'Romance'],\n",
       " ['Comedy', 'Drama'],\n",
       " ['Comedy', 'Drama'],\n",
       " ['Comedy'],\n",
       " ['Drama'],\n",
       " ['Comedy', 'Drama', 'Romance'],\n",
       " ['Drama', 'Romance'],\n",
       " ['Comedy'],\n",
       " ['Comedy', 'Drama'],\n",
       " ['Comedy', 'Romance'],\n",
       " ['Comedy'],\n",
       " ['Drama'],\n",
       " ['Thriller', 'Drama'],\n",
       " ['Comedy', 'Drama'],\n",
       " ['Documentary'],\n",
       " ['Comedy', 'Drama', 'Romance'],\n",
       " ['Comedy', 'Drama'],\n",
       " ['Drama', 'Romance'],\n",
       " ['Comedy'],\n",
       " ['Comedy'],\n",
       " ['Thriller', 'Drama', 'Romance'],\n",
       " ['Comedy', 'Romance'],\n",
       " ['Thriller', 'Action'],\n",
       " ['Drama'],\n",
       " ['Thriller', 'Drama', 'Action'],\n",
       " ['Action'],\n",
       " ['Thriller', 'Drama'],\n",
       " nan,\n",
       " ['Romance'],\n",
       " nan,\n",
       " ['Comedy', 'Romance'],\n",
       " ['Comedy', 'Drama'],\n",
       " nan,\n",
       " ['Thriller'],\n",
       " ['Drama', 'Romance'],\n",
       " ['Comedy', 'Romance'],\n",
       " ['Comedy', 'Romance'],\n",
       " ['Horror'],\n",
       " ['Drama', 'Romance'],\n",
       " ['Thriller', 'Drama'],\n",
       " ['Comedy', 'Drama'],\n",
       " nan,\n",
       " ['Thriller', 'Horror'],\n",
       " ['Comedy', 'Romance'],\n",
       " ['Drama', 'Romance'],\n",
       " ['Thriller', 'Drama'],\n",
       " ['Comedy'],\n",
       " ['Comedy'],\n",
       " ['Drama', 'Romance'],\n",
       " ['Comedy', 'Romance'],\n",
       " ['Comedy'],\n",
       " ['Documentary', 'Drama'],\n",
       " ['Drama'],\n",
       " ['Thriller', 'Drama', 'Action'],\n",
       " ['Comedy', 'Drama'],\n",
       " ['Comedy', 'Romance', 'Thriller'],\n",
       " ['Comedy', 'Drama', 'Thriller'],\n",
       " ['Thriller', 'Drama'],\n",
       " ['Drama', 'Romance'],\n",
       " ['Romance'],\n",
       " ['Drama', 'Romance'],\n",
       " ['Comedy'],\n",
       " nan,\n",
       " ['Comedy', 'Drama'],\n",
       " ['Thriller', 'Drama'],\n",
       " ['Comedy'],\n",
       " ['Comedy', 'Drama', 'Romance'],\n",
       " ['Comedy'],\n",
       " ['Thriller', 'Drama', 'Horror'],\n",
       " ['Comedy', 'Drama'],\n",
       " ['Drama', 'Romance'],\n",
       " ['Drama', 'Romance'],\n",
       " ['Thriller', 'Drama'],\n",
       " ['Thriller', 'Action'],\n",
       " ['Comedy', 'Drama'],\n",
       " ['Drama', 'Romance'],\n",
       " ['Thriller', 'Horror'],\n",
       " nan,\n",
       " ['Drama'],\n",
       " ['Comedy', 'Action'],\n",
       " ['Comedy', 'Drama'],\n",
       " ['Thriller', 'Drama'],\n",
       " ['Comedy', 'Drama', 'Romance'],\n",
       " nan,\n",
       " ['Thriller', 'Drama', 'Romance'],\n",
       " ['Comedy'],\n",
       " ['Comedy', 'Drama'],\n",
       " ['Comedy', 'Drama'],\n",
       " ['Drama', 'Romance'],\n",
       " ['Thriller', 'Action'],\n",
       " ['Drama'],\n",
       " ['Drama'],\n",
       " ['Comedy'],\n",
       " ['Comedy', 'Drama'],\n",
       " nan,\n",
       " ['Thriller', 'Drama', 'Action'],\n",
       " ['Comedy', 'Horror'],\n",
       " ['Thriller', 'Drama'],\n",
       " ['Drama', 'Romance'],\n",
       " ['Drama'],\n",
       " ['Drama'],\n",
       " ['Documentary'],\n",
       " ['Thriller', 'Drama', 'Horror'],\n",
       " ['Drama'],\n",
       " ['Drama', 'Romance'],\n",
       " ['Comedy', 'Action'],\n",
       " ['Drama', 'Romance'],\n",
       " ['Comedy', 'Drama', 'Romance'],\n",
       " ['Thriller', 'Action'],\n",
       " ['Thriller', 'Action'],\n",
       " ['Thriller'],\n",
       " ['Thriller', 'Drama', 'Romance'],\n",
       " ['Comedy', 'Drama', 'Thriller', 'Action'],\n",
       " ['Drama', 'Romance'],\n",
       " ['Comedy', 'Drama', 'Romance'],\n",
       " ['Drama'],\n",
       " ['Drama'],\n",
       " ['Drama', 'Romance'],\n",
       " ['Action'],\n",
       " ['Comedy', 'Romance'],\n",
       " ['Drama'],\n",
       " ['Thriller', 'Drama'],\n",
       " ['Comedy', 'Romance'],\n",
       " ['Comedy'],\n",
       " ['Comedy'],\n",
       " nan,\n",
       " ['Thriller', 'Drama', 'Romance'],\n",
       " ['Drama'],\n",
       " ['Drama'],\n",
       " ['Drama', 'Romance'],\n",
       " ['Drama', 'Action'],\n",
       " ['Comedy'],\n",
       " ['Comedy'],\n",
       " ['Comedy'],\n",
       " ['Documentary'],\n",
       " ['Drama'],\n",
       " ['Thriller', 'Drama', 'Horror'],\n",
       " ['Comedy', 'Drama'],\n",
       " ['Thriller', 'Drama'],\n",
       " ['Comedy', 'Drama', 'Romance'],\n",
       " ['Drama'],\n",
       " ['Thriller', 'Drama'],\n",
       " ['Thriller', 'Drama', 'Action'],\n",
       " ['Thriller', 'Action'],\n",
       " ['Comedy'],\n",
       " ['Comedy', 'Drama', 'Horror'],\n",
       " ['Drama', 'Action'],\n",
       " ['Action'],\n",
       " ['Drama'],\n",
       " ['Comedy'],\n",
       " ['Action'],\n",
       " ['Thriller', 'Horror'],\n",
       " ['Comedy', 'Action'],\n",
       " ['Comedy', 'Drama'],\n",
       " ['Comedy'],\n",
       " ['Drama', 'Action'],\n",
       " ['Comedy'],\n",
       " ['Thriller', 'Action'],\n",
       " ['Drama'],\n",
       " ['Comedy', 'Drama'],\n",
       " ['Comedy', 'Drama', 'Horror'],\n",
       " ['Comedy', 'Drama', 'Romance'],\n",
       " ['Drama'],\n",
       " nan,\n",
       " ['Documentary'],\n",
       " ['Drama', 'Action'],\n",
       " ['Documentary'],\n",
       " ['Drama'],\n",
       " ['Action'],\n",
       " ['Thriller', 'Drama'],\n",
       " ['Comedy', 'Drama'],\n",
       " ['Drama', 'Romance'],\n",
       " ['Comedy', 'Drama'],\n",
       " ['Drama'],\n",
       " ['Comedy', 'Drama'],\n",
       " ['Drama'],\n",
       " ['Romance'],\n",
       " ['Drama', 'Romance'],\n",
       " ['Drama'],\n",
       " ['Drama', 'Horror'],\n",
       " ['Drama'],\n",
       " ['Drama'],\n",
       " ['Comedy', 'Romance'],\n",
       " ['Action'],\n",
       " ['Drama', 'Romance'],\n",
       " ['Thriller', 'Drama'],\n",
       " ['Drama'],\n",
       " ['Comedy', 'Drama', 'Thriller'],\n",
       " ['Comedy'],\n",
       " ['Thriller', 'Drama', 'Action'],\n",
       " ['Documentary'],\n",
       " ['Comedy', 'Romance'],\n",
       " ['Drama'],\n",
       " ['Drama', 'Romance'],\n",
       " ['Comedy', 'Drama'],\n",
       " ['Drama'],\n",
       " ['Comedy'],\n",
       " ['Thriller', 'Action'],\n",
       " ['Comedy', 'Horror'],\n",
       " ['Drama', 'Romance'],\n",
       " ['Comedy', 'Drama'],\n",
       " ['Drama', 'Romance'],\n",
       " ['Comedy', 'Drama', 'Romance'],\n",
       " ['Comedy', 'Romance'],\n",
       " ['Thriller', 'Drama'],\n",
       " ['Drama'],\n",
       " ['Comedy', 'Romance'],\n",
       " nan,\n",
       " ['Comedy', 'Thriller', 'Action'],\n",
       " ['Comedy'],\n",
       " ['Comedy'],\n",
       " ['Thriller', 'Action'],\n",
       " ['Drama'],\n",
       " ['Comedy'],\n",
       " ['Comedy'],\n",
       " ['Drama'],\n",
       " ['Drama'],\n",
       " ['Comedy', 'Drama', 'Romance'],\n",
       " ['Drama'],\n",
       " ['Comedy'],\n",
       " ['Thriller'],\n",
       " nan,\n",
       " ['Comedy'],\n",
       " ['Comedy'],\n",
       " ['Comedy', 'Drama', 'Romance'],\n",
       " ['Thriller', 'Action'],\n",
       " ['Comedy'],\n",
       " ['Comedy'],\n",
       " ['Thriller', 'Drama', 'Action'],\n",
       " ['Thriller', 'Drama', 'Action'],\n",
       " ['Comedy'],\n",
       " ['Comedy', 'Drama', 'Romance'],\n",
       " ['Thriller', 'Action'],\n",
       " ['Comedy'],\n",
       " ['Thriller', 'Drama', 'Horror'],\n",
       " ['Comedy', 'Horror'],\n",
       " ['Drama'],\n",
       " ['Drama', 'Romance'],\n",
       " ['Drama'],\n",
       " ['Comedy', 'Drama'],\n",
       " ['Thriller', 'Action'],\n",
       " ['Drama'],\n",
       " ['Drama'],\n",
       " ['Comedy', 'Drama', 'Romance'],\n",
       " ['Drama'],\n",
       " ['Drama'],\n",
       " ['Drama'],\n",
       " ['Drama'],\n",
       " ['Comedy', 'Drama'],\n",
       " ['Thriller', 'Action'],\n",
       " ['Comedy', 'Drama'],\n",
       " ['Drama'],\n",
       " ['Thriller', 'Drama', 'Romance'],\n",
       " ['Comedy'],\n",
       " ['Drama'],\n",
       " ['Thriller', 'Drama'],\n",
       " ['Comedy'],\n",
       " ['Comedy', 'Romance'],\n",
       " ['Drama'],\n",
       " ['Drama'],\n",
       " ['Drama'],\n",
       " ['Drama', 'Action'],\n",
       " ['Action'],\n",
       " ['Comedy', 'Drama'],\n",
       " ['Drama'],\n",
       " ['Thriller', 'Horror'],\n",
       " ['Horror'],\n",
       " ['Comedy'],\n",
       " ['Thriller', 'Drama'],\n",
       " ['Comedy'],\n",
       " ['Comedy', 'Thriller', 'Action'],\n",
       " ['Drama', 'Romance'],\n",
       " nan,\n",
       " ['Thriller', 'Horror'],\n",
       " ['Comedy', 'Drama', 'Romance'],\n",
       " ['Drama'],\n",
       " ['Drama', 'Romance'],\n",
       " ['Drama', 'Romance'],\n",
       " ['Drama', 'Romance'],\n",
       " ['Thriller', 'Drama', 'Romance'],\n",
       " ['Comedy', 'Romance'],\n",
       " ['Comedy', 'Romance'],\n",
       " ['Comedy', 'Drama', 'Romance'],\n",
       " ['Comedy', 'Romance'],\n",
       " ['Comedy', 'Drama', 'Romance'],\n",
       " ['Thriller', 'Romance'],\n",
       " ['Thriller', 'Drama'],\n",
       " ['Comedy', 'Romance'],\n",
       " ['Thriller', 'Drama'],\n",
       " ['Comedy', 'Romance'],\n",
       " ['Thriller'],\n",
       " ['Comedy', 'Drama', 'Romance'],\n",
       " ['Comedy', 'Romance'],\n",
       " ['Comedy', 'Romance', 'Thriller'],\n",
       " ['Drama', 'Romance'],\n",
       " ['Thriller'],\n",
       " ['Drama', 'Romance'],\n",
       " ['Comedy', 'Drama', 'Romance'],\n",
       " ['Comedy', 'Romance'],\n",
       " ['Comedy', 'Drama'],\n",
       " ['Comedy', 'Romance'],\n",
       " nan,\n",
       " ['Drama', 'Romance'],\n",
       " ['Comedy', 'Drama'],\n",
       " ['Drama'],\n",
       " ['Drama'],\n",
       " nan,\n",
       " ['Romance'],\n",
       " ['Drama'],\n",
       " ['Comedy', 'Drama'],\n",
       " ['Drama'],\n",
       " ['Thriller'],\n",
       " ['Thriller', 'Drama', 'Romance'],\n",
       " ['Thriller', 'Drama'],\n",
       " ['Drama', 'Romance'],\n",
       " ['Thriller', 'Drama', 'Romance'],\n",
       " ['Comedy', 'Drama', 'Romance'],\n",
       " ['Comedy'],\n",
       " ['Comedy', 'Romance'],\n",
       " ['Comedy', 'Drama', 'Romance'],\n",
       " ['Comedy', 'Romance'],\n",
       " ['Comedy', 'Romance'],\n",
       " ['Romance', 'Action'],\n",
       " ['Drama', 'Romance', 'Action'],\n",
       " ['Drama'],\n",
       " ['Romance'],\n",
       " ['Drama'],\n",
       " ['Comedy', 'Romance'],\n",
       " ['Comedy'],\n",
       " ['Comedy', 'Romance'],\n",
       " ['Drama', 'Action'],\n",
       " ['Drama'],\n",
       " ['Comedy'],\n",
       " ['Comedy', 'Drama'],\n",
       " ['Comedy', 'Romance'],\n",
       " ['Drama'],\n",
       " ['Comedy', 'Drama'],\n",
       " ['Comedy', 'Romance'],\n",
       " ['Drama', 'Romance'],\n",
       " ['Drama'],\n",
       " ['Comedy', 'Romance', 'Thriller'],\n",
       " ['Drama'],\n",
       " ['Comedy', 'Romance'],\n",
       " ['Drama'],\n",
       " ['Thriller', 'Drama'],\n",
       " ['Comedy', 'Romance'],\n",
       " ['Romance'],\n",
       " ['Thriller', 'Action'],\n",
       " ['Drama'],\n",
       " ['Action'],\n",
       " ['Horror'],\n",
       " ['Romance'],\n",
       " ['Comedy', 'Drama', 'Romance', 'Action'],\n",
       " ['Drama', 'Romance'],\n",
       " ['Drama', 'Romance'],\n",
       " ['Comedy', 'Drama', 'Romance'],\n",
       " ['Drama', 'Romance', 'Action'],\n",
       " ['Comedy'],\n",
       " ['Drama', 'Romance'],\n",
       " nan,\n",
       " ['Drama'],\n",
       " ['Action'],\n",
       " ['Drama'],\n",
       " ['Drama', 'Romance'],\n",
       " ['Comedy', 'Drama', 'Romance'],\n",
       " ['Documentary'],\n",
       " ['Drama', 'Action'],\n",
       " ['Drama', 'Romance'],\n",
       " ['Comedy', 'Drama'],\n",
       " ['Drama'],\n",
       " ['Thriller', 'Action'],\n",
       " ['Thriller', 'Drama'],\n",
       " ['Thriller', 'Drama'],\n",
       " ['Drama', 'Romance'],\n",
       " ['Drama'],\n",
       " ['Thriller', 'Drama', 'Action'],\n",
       " ['Thriller', 'Drama', 'Action'],\n",
       " ['Drama', 'Action'],\n",
       " ['Comedy'],\n",
       " ['Comedy', 'Thriller'],\n",
       " ['Comedy'],\n",
       " ['Thriller', 'Drama'],\n",
       " ['Thriller', 'Drama', 'Action'],\n",
       " ['Comedy', 'Drama', 'Action'],\n",
       " ['Drama'],\n",
       " ['Comedy'],\n",
       " ['Action'],\n",
       " nan,\n",
       " ['Comedy'],\n",
       " ['Comedy', 'Romance'],\n",
       " ['Drama'],\n",
       " ['Comedy'],\n",
       " nan,\n",
       " ['Comedy', 'Drama'],\n",
       " ['Comedy'],\n",
       " nan,\n",
       " ['Comedy', 'Drama'],\n",
       " ['Drama'],\n",
       " ['Comedy'],\n",
       " ['Comedy', 'Drama'],\n",
       " ['Romance'],\n",
       " nan,\n",
       " nan,\n",
       " nan,\n",
       " ['Drama'],\n",
       " nan,\n",
       " ['Comedy'],\n",
       " nan,\n",
       " ['Comedy'],\n",
       " ['Comedy'],\n",
       " nan,\n",
       " ['Drama'],\n",
       " ['Comedy', 'Drama', 'Thriller'],\n",
       " ['Drama', 'Romance'],\n",
       " ['Thriller', 'Action'],\n",
       " ['Thriller', 'Horror'],\n",
       " ['Drama', 'Romance'],\n",
       " ['Documentary'],\n",
       " ['Thriller', 'Drama'],\n",
       " ['Drama'],\n",
       " ['Comedy', 'Drama'],\n",
       " ['Drama', 'Romance'],\n",
       " ['Drama', 'Romance'],\n",
       " ['Comedy', 'Romance'],\n",
       " ['Comedy', 'Drama', 'Romance'],\n",
       " ['Thriller', 'Action'],\n",
       " nan,\n",
       " ['Documentary'],\n",
       " ['Comedy', 'Drama'],\n",
       " ['Drama'],\n",
       " ['Drama'],\n",
       " ['Thriller', 'Action'],\n",
       " ['Drama', 'Romance'],\n",
       " ['Comedy', 'Romance'],\n",
       " ['Drama', 'Romance'],\n",
       " ['Drama', 'Romance'],\n",
       " ['Comedy', 'Romance'],\n",
       " ['Thriller', 'Drama'],\n",
       " ['Drama'],\n",
       " ['Drama'],\n",
       " nan,\n",
       " nan,\n",
       " ['Comedy', 'Romance'],\n",
       " ['Comedy', 'Romance'],\n",
       " ['Thriller', 'Drama'],\n",
       " ['Thriller', 'Drama'],\n",
       " ['Drama', 'Romance'],\n",
       " ['Drama', 'Romance', 'Action'],\n",
       " nan,\n",
       " ['Comedy', 'Romance'],\n",
       " ...]"
      ]
     },
     "execution_count": 11,
     "metadata": {
      "tags": []
     },
     "output_type": "execute_result"
    }
   ],
   "source": [
    "genres_excluded"
   ]
  },
  {
   "cell_type": "code",
   "execution_count": 0,
   "metadata": {
    "colab": {},
    "colab_type": "code",
    "id": "qGjgcZ-aQl7r"
   },
   "outputs": [],
   "source": [
    "new_data[\"genres\"] = genres_excluded\n",
    "new_data = new_data.dropna().reset_index(drop=True)"
   ]
  },
  {
   "cell_type": "code",
   "execution_count": 0,
   "metadata": {
    "colab": {},
    "colab_type": "code",
    "id": "MMX3l9fOm9T6"
   },
   "outputs": [],
   "source": [
    "# 소문자 전환\n",
    "#new_data[\"overview\"] = new_data[\"overview\"].apply(lambda x: x.lower())"
   ]
  },
  {
   "cell_type": "code",
   "execution_count": 0,
   "metadata": {
    "colab": {},
    "colab_type": "code",
    "id": "-gxfGW-5Ql5e"
   },
   "outputs": [],
   "source": [
    "# delete url links & drop \"No overview\"\n",
    "\n",
    "import re\n",
    "\n",
    "row_drop = []\n",
    "for e,i in enumerate(new_data[\"overview\"]):\n",
    "    new_data[\"overview\"][e] = re.sub('(https?://)[^ ]+','', i)\n",
    "    new_data[\"overview\"][e] = re.sub('[^ ]+(www.)+[^ ]+','', i)\n",
    "    new_data[\"overview\"][e] = re.sub('hancinema.net[^ ]+','', i)\n",
    "    new_data[\"overview\"][e] = re.sub('(mc)[^ ]+','',i)\n",
    "    if \"No overview\" in i or \"No Overview\" in i or \"no overview\" in i:\n",
    "        row_drop.append(e)\n",
    "        \n",
    "new_data = new_data.drop(row_drop).reset_index(drop=True)"
   ]
  },
  {
   "cell_type": "code",
   "execution_count": 15,
   "metadata": {
    "colab": {
     "base_uri": "https://localhost:8080/",
     "height": 53
    },
    "colab_type": "code",
    "executionInfo": {
     "elapsed": 67341,
     "status": "ok",
     "timestamp": 1582950958579,
     "user": {
      "displayName": "정정호",
      "photoUrl": "",
      "userId": "01189220954616800785"
     },
     "user_tz": -540
    },
    "id": "GlhDGODQQl3z",
    "outputId": "998a0d21-d08e-406f-8eb7-258944879e71"
   },
   "outputs": [
    {
     "name": "stdout",
     "output_type": "stream",
     "text": [
      "[nltk_data] Downloading package punkt to /root/nltk_data...\n",
      "[nltk_data]   Unzipping tokenizers/punkt.zip.\n"
     ]
    }
   ],
   "source": [
    "# tokenize\n",
    "\n",
    "import nltk\n",
    "nltk.download('punkt')\n",
    "\n",
    "from nltk.tokenize import sent_tokenize, word_tokenize\n",
    "\n",
    "ov_token = new_data[\"overview\"].apply(word_tokenize)\n",
    "\n",
    "\n",
    "# Use RegX\n",
    "\n",
    "from nltk.tokenize import RegexpTokenizer\n",
    "\n",
    "tokenizer = RegexpTokenizer(r'\\w+')\n",
    "ov_token_reg = new_data[\"overview\"].apply(tokenizer.tokenize)"
   ]
  },
  {
   "cell_type": "code",
   "execution_count": 16,
   "metadata": {
    "colab": {
     "base_uri": "https://localhost:8080/",
     "height": 53
    },
    "colab_type": "code",
    "executionInfo": {
     "elapsed": 67025,
     "status": "ok",
     "timestamp": 1582950958581,
     "user": {
      "displayName": "정정호",
      "photoUrl": "",
      "userId": "01189220954616800785"
     },
     "user_tz": -540
    },
    "id": "GYmPHFQtQl1s",
    "outputId": "27ec40aa-ce2c-4721-c29e-cd3a4164bea5"
   },
   "outputs": [
    {
     "name": "stdout",
     "output_type": "stream",
     "text": [
      "[nltk_data] Downloading package stopwords to /root/nltk_data...\n",
      "[nltk_data]   Unzipping corpora/stopwords.zip.\n"
     ]
    }
   ],
   "source": [
    "nltk.download('stopwords')\n",
    "from nltk.corpus import stopwords\n",
    "stopWords = list(set(stopwords.words('english')))\n",
    "\n",
    "stopWords.extend([\"s\",\"movie\",\"movies\",\"film\",\"films\",\"meet\",\n",
    "                  \"mr\",\"ms\",\"mrs\"])"
   ]
  },
  {
   "cell_type": "code",
   "execution_count": 0,
   "metadata": {
    "colab": {},
    "colab_type": "code",
    "id": "98Ekyo10QlzZ"
   },
   "outputs": [],
   "source": [
    "# exclude stopwords\n",
    "\n",
    "ov_token_sw = []\n",
    "for word_list in ov_token_reg:\n",
    "    ov_token_sw.append([word for word in word_list if word not in stopWords])"
   ]
  },
  {
   "cell_type": "code",
   "execution_count": 0,
   "metadata": {
    "colab": {},
    "colab_type": "code",
    "id": "mjT9baNAQlvl"
   },
   "outputs": [],
   "source": [
    "# Stemming \n",
    "\n",
    "import nltk\n",
    "stemmer = nltk.stem.porter.PorterStemmer()\n",
    "\n",
    "train_X_raw = []\n",
    "\n",
    "for i in ov_token_sw:\n",
    "    train_X_raw.append([stemmer.stem(words) for words in i])"
   ]
  },
  {
   "cell_type": "code",
   "execution_count": 19,
   "metadata": {
    "colab": {
     "base_uri": "https://localhost:8080/",
     "height": 629
    },
    "colab_type": "code",
    "executionInfo": {
     "elapsed": 91785,
     "status": "ok",
     "timestamp": 1582950983782,
     "user": {
      "displayName": "정정호",
      "photoUrl": "",
      "userId": "01189220954616800785"
     },
     "user_tz": -540
    },
    "id": "wWA4DlzUQ3UK",
    "outputId": "348b7044-1b05-4605-80e1-7ee9c0f08c30"
   },
   "outputs": [
    {
     "data": {
      "text/plain": [
       "['led',\n",
       " 'woodi',\n",
       " 'andi',\n",
       " 'toy',\n",
       " 'live',\n",
       " 'happili',\n",
       " 'room',\n",
       " 'andi',\n",
       " 'birthday',\n",
       " 'bring',\n",
       " 'buzz',\n",
       " 'lightyear',\n",
       " 'onto',\n",
       " 'scene',\n",
       " 'afraid',\n",
       " 'lose',\n",
       " 'place',\n",
       " 'andi',\n",
       " 'heart',\n",
       " 'woodi',\n",
       " 'plot',\n",
       " 'buzz',\n",
       " 'but',\n",
       " 'circumst',\n",
       " 'separ',\n",
       " 'buzz',\n",
       " 'woodi',\n",
       " 'owner',\n",
       " 'duo',\n",
       " 'eventu',\n",
       " 'learn',\n",
       " 'put',\n",
       " 'asid',\n",
       " 'differ']"
      ]
     },
     "execution_count": 19,
     "metadata": {
      "tags": []
     },
     "output_type": "execute_result"
    }
   ],
   "source": [
    "train_X_raw[0]"
   ]
  },
  {
   "cell_type": "code",
   "execution_count": 20,
   "metadata": {
    "colab": {
     "base_uri": "https://localhost:8080/",
     "height": 233
    },
    "colab_type": "code",
    "executionInfo": {
     "elapsed": 91501,
     "status": "ok",
     "timestamp": 1582950983784,
     "user": {
      "displayName": "정정호",
      "photoUrl": "",
      "userId": "01189220954616800785"
     },
     "user_tz": -540
    },
    "id": "M8w8GlCUQ3SI",
    "outputId": "f51d72be-2a20-4e35-92e5-0071c5e53373"
   },
   "outputs": [
    {
     "data": {
      "text/plain": [
       "0        Led by Woody, Andy's toys live happily in his ...\n",
       "1        When siblings Judy and Peter discover an encha...\n",
       "2        A family wedding reignites the ancient feud be...\n",
       "3        Cheated on, mistreated and stepped on, the wom...\n",
       "4        Just when George Banks has recovered from his ...\n",
       "                               ...                        \n",
       "45461          Rising and falling between a man and woman.\n",
       "45462    An artist struggles to finish his work while a...\n",
       "45463    When one of her hits goes wrong, a professiona...\n",
       "45464    In a small town live two brothers, one a minis...\n",
       "45465    50 years after decriminalisation of homosexual...\n",
       "Name: overview, Length: 45466, dtype: object"
      ]
     },
     "execution_count": 20,
     "metadata": {
      "tags": []
     },
     "output_type": "execute_result"
    }
   ],
   "source": [
    "data[\"overview\"]"
   ]
  },
  {
   "cell_type": "code",
   "execution_count": 21,
   "metadata": {
    "colab": {
     "base_uri": "https://localhost:8080/",
     "height": 89
    },
    "colab_type": "code",
    "executionInfo": {
     "elapsed": 91237,
     "status": "ok",
     "timestamp": 1582950983786,
     "user": {
      "displayName": "정정호",
      "photoUrl": "",
      "userId": "01189220954616800785"
     },
     "user_tz": -540
    },
    "id": "bkjUfb2tQ3QZ",
    "outputId": "94b54079-68d9-42ac-cb3d-bbf3f71bb13d"
   },
   "outputs": [
    {
     "name": "stdout",
     "output_type": "stream",
     "text": [
      "0\n",
      "10000\n",
      "20000\n",
      "30000\n"
     ]
    }
   ],
   "source": [
    "whole=[]\n",
    "for num,i in enumerate(train_X_raw):\n",
    "    whole+=i\n",
    "    if num%10000==0:\n",
    "        print(num)\n",
    "from collections import Counter\n",
    "counter=Counter(whole)\n",
    "L=dict(counter)\n",
    "def f(x):\n",
    "    return x[1]\n",
    "D = sorted(L.items(),key=f,reverse=True)\n",
    "stops = dict(D[:5000]).keys()"
   ]
  },
  {
   "cell_type": "code",
   "execution_count": 0,
   "metadata": {
    "colab": {},
    "colab_type": "code",
    "id": "HocoxtJOQ3Oi"
   },
   "outputs": [],
   "source": [
    "# exclusion\n",
    "train_X_raw = pd.Series(train_X_raw)\n",
    "train_X_clean = train_X_raw.apply(lambda i: [word for word in i if word in stops])\n",
    "\n",
    "word_exclude_list = [\"one\",\"two\",\"three\",\"four\",\"five\",\n",
    "                     \"six\",\"seven\",\"eight\",\"nine\",\"ten\",\n",
    "                     \"much\",\"would\",\"ever\",\"whose\",\"also\",\n",
    "                     \"seem\",\"jame\",\"john\",\"david\",\"peter\",\"michael\", \n",
    "                     \"mari\", \"ann\", \"lee\", \"u\", \"ii\", \"sam\", \n",
    "                    \"els\", \"lisa\", 'charl', 'linda', 'daniel', \n",
    "                     'steven', 'steve', 'joe', 'kevin', 'william', \n",
    "                     'harri', 'richard', 'elizabeth', 'martin', \n",
    "                     'jim', 'anna']\n",
    "\n",
    "#word_exclude_list += list(stops)\n",
    "\n",
    "\n",
    "train_X_final = train_X_clean.apply(lambda i: [word for word in i if word not in word_exclude_list])"
   ]
  },
  {
   "cell_type": "code",
   "execution_count": 0,
   "metadata": {
    "colab": {},
    "colab_type": "code",
    "id": "i0e_LE0llgnK"
   },
   "outputs": [],
   "source": [
    "\n",
    "flat_tokens = []\n",
    "for i in train_X_final:\n",
    "    flat_tokens.extend(i)\n"
   ]
  },
  {
   "cell_type": "code",
   "execution_count": 24,
   "metadata": {
    "colab": {
     "base_uri": "https://localhost:8080/",
     "height": 35
    },
    "colab_type": "code",
    "executionInfo": {
     "elapsed": 90228,
     "status": "ok",
     "timestamp": 1582950985441,
     "user": {
      "displayName": "정정호",
      "photoUrl": "",
      "userId": "01189220954616800785"
     },
     "user_tz": -540
    },
    "id": "huI6r7xJlhjH",
    "outputId": "944de1b4-345f-42e3-fd62-ea5c28befef1"
   },
   "outputs": [
    {
     "data": {
      "text/plain": [
       "4959"
      ]
     },
     "execution_count": 24,
     "metadata": {
      "tags": []
     },
     "output_type": "execute_result"
    }
   ],
   "source": [
    "len(set(flat_tokens))"
   ]
  },
  {
   "cell_type": "code",
   "execution_count": 0,
   "metadata": {
    "colab": {},
    "colab_type": "code",
    "id": "uwKJcMS3oprp"
   },
   "outputs": [],
   "source": []
  },
  {
   "cell_type": "code",
   "execution_count": 0,
   "metadata": {
    "colab": {},
    "colab_type": "code",
    "id": "1jDbI13eQ3Ix"
   },
   "outputs": [],
   "source": [
    "# create word 2 index dictionary for mapping later\n",
    "\n",
    "def word_indexing(flat_tokens):\n",
    "    wd2ix = dict()\n",
    "    ix2wd = dict()\n",
    "\n",
    "    cnt = 1\n",
    "    for words in set(flat_tokens):\n",
    "        wd2ix[words] = cnt\n",
    "        ix2wd[cnt] = words\n",
    "        cnt+=1\n",
    "    return wd2ix, ix2wd\n",
    "\n",
    "\n",
    "def token_cutting(tokens, wd2ix, cut_tokens=60, padding=0):\n",
    "    tokens_aft_cut = []\n",
    "    for i in tokens:\n",
    "        if len(i) >= cut_tokens:\n",
    "            tokens_aft_cut.append([wd2ix[word] if word in wd2ix.keys() else 0 for word in i[:cut_tokens]])\n",
    "        elif len(i) < cut_tokens:\n",
    "            new_i = [wd2ix[word] for word in i]\n",
    "            new_i += [padding for k in range(cut_tokens-len(i))]\n",
    "            tokens_aft_cut.append(new_i)\n",
    "    return pd.Series(tokens_aft_cut)"
   ]
  },
  {
   "cell_type": "code",
   "execution_count": 0,
   "metadata": {
    "colab": {},
    "colab_type": "code",
    "id": "CaOFhI5oQ3G7"
   },
   "outputs": [],
   "source": [
    "tokens = token_cutting(train_X_final, word_indexing(flat_tokens)[0], cut_tokens = 50)"
   ]
  },
  {
   "cell_type": "code",
   "execution_count": 0,
   "metadata": {
    "colab": {},
    "colab_type": "code",
    "id": "0vDE7pX8Q3Bq"
   },
   "outputs": [],
   "source": [
    "data_load[\"tokens\"] = tokens"
   ]
  },
  {
   "cell_type": "code",
   "execution_count": 28,
   "metadata": {
    "colab": {
     "base_uri": "https://localhost:8080/",
     "height": 419
    },
    "colab_type": "code",
    "executionInfo": {
     "elapsed": 86243,
     "status": "ok",
     "timestamp": 1582950985447,
     "user": {
      "displayName": "정정호",
      "photoUrl": "",
      "userId": "01189220954616800785"
     },
     "user_tz": -540
    },
    "id": "kTAcMU77Q2_S",
    "outputId": "0eeb22b9-b48e-4f72-85ff-8648bea8d39a"
   },
   "outputs": [
    {
     "data": {
      "text/html": [
       "<div>\n",
       "<style scoped>\n",
       "    .dataframe tbody tr th:only-of-type {\n",
       "        vertical-align: middle;\n",
       "    }\n",
       "\n",
       "    .dataframe tbody tr th {\n",
       "        vertical-align: top;\n",
       "    }\n",
       "\n",
       "    .dataframe thead th {\n",
       "        text-align: right;\n",
       "    }\n",
       "</style>\n",
       "<table border=\"1\" class=\"dataframe\">\n",
       "  <thead>\n",
       "    <tr style=\"text-align: right;\">\n",
       "      <th></th>\n",
       "      <th>tokens</th>\n",
       "      <th>vec</th>\n",
       "      <th>genre_ind</th>\n",
       "    </tr>\n",
       "  </thead>\n",
       "  <tbody>\n",
       "    <tr>\n",
       "      <th>0</th>\n",
       "      <td>[1603, 2608, 404, 3494, 784, 369, 89, 404, 389...</td>\n",
       "      <td>[1, 0, 0, 0, 0, 0]</td>\n",
       "      <td>0</td>\n",
       "    </tr>\n",
       "    <tr>\n",
       "      <th>1</th>\n",
       "      <td>[1563, 1286, 1468, 364, 4908, 1588, 3664, 646,...</td>\n",
       "      <td>[0, 0, 0, 0, 0, 1]</td>\n",
       "      <td>5</td>\n",
       "    </tr>\n",
       "    <tr>\n",
       "      <th>2</th>\n",
       "      <td>[2941, 1781, 4139, 3879, 2026, 4900, 776, 2967...</td>\n",
       "      <td>[0, 0, 0, 0, 0, 1]</td>\n",
       "      <td>5</td>\n",
       "    </tr>\n",
       "    <tr>\n",
       "      <th>3</th>\n",
       "      <td>[3976, 3910, 1139, 169, 827, 1468, 1599, 339, ...</td>\n",
       "      <td>[1, 0, 0, 0, 0, 0]</td>\n",
       "      <td>0</td>\n",
       "    </tr>\n",
       "    <tr>\n",
       "      <th>4</th>\n",
       "      <td>[110, 1490, 80, 179, 512, 1921, 3855, 248, 141...</td>\n",
       "      <td>[0, 1, 0, 0, 0, 0]</td>\n",
       "      <td>1</td>\n",
       "    </tr>\n",
       "    <tr>\n",
       "      <th>...</th>\n",
       "      <td>...</td>\n",
       "      <td>...</td>\n",
       "      <td>...</td>\n",
       "    </tr>\n",
       "    <tr>\n",
       "      <th>39629</th>\n",
       "      <td>[1563, 780, 4260, 4251, 3252, 2180, 1281, 3101...</td>\n",
       "      <td>[0, 0, 0, 1, 0, 0]</td>\n",
       "      <td>3</td>\n",
       "    </tr>\n",
       "    <tr>\n",
       "      <th>39630</th>\n",
       "      <td>[1322, 814, 1508, 1624, 241, 1479, 4774, 2354,...</td>\n",
       "      <td>[0, 1, 0, 0, 0, 0]</td>\n",
       "      <td>1</td>\n",
       "    </tr>\n",
       "    <tr>\n",
       "      <th>39631</th>\n",
       "      <td>[2495, 3540, 2787, 2937, 0, 0, 0, 0, 0, 0, 0, ...</td>\n",
       "      <td>[0, 0, 0, 0, 0, 1]</td>\n",
       "      <td>5</td>\n",
       "    </tr>\n",
       "    <tr>\n",
       "      <th>39632</th>\n",
       "      <td>[3153, 579, 3651, 2657, 2169, 1745, 434, 1518,...</td>\n",
       "      <td>[0, 0, 0, 0, 0, 1]</td>\n",
       "      <td>5</td>\n",
       "    </tr>\n",
       "    <tr>\n",
       "      <th>39633</th>\n",
       "      <td>[6, 3492, 2759, 2304, 53, 2845, 255, 1551, 150...</td>\n",
       "      <td>[0, 1, 0, 0, 0, 0]</td>\n",
       "      <td>1</td>\n",
       "    </tr>\n",
       "  </tbody>\n",
       "</table>\n",
       "<p>39634 rows × 3 columns</p>\n",
       "</div>"
      ],
      "text/plain": [
       "                                                  tokens  ... genre_ind\n",
       "0      [1603, 2608, 404, 3494, 784, 369, 89, 404, 389...  ...         0\n",
       "1      [1563, 1286, 1468, 364, 4908, 1588, 3664, 646,...  ...         5\n",
       "2      [2941, 1781, 4139, 3879, 2026, 4900, 776, 2967...  ...         5\n",
       "3      [3976, 3910, 1139, 169, 827, 1468, 1599, 339, ...  ...         0\n",
       "4      [110, 1490, 80, 179, 512, 1921, 3855, 248, 141...  ...         1\n",
       "...                                                  ...  ...       ...\n",
       "39629  [1563, 780, 4260, 4251, 3252, 2180, 1281, 3101...  ...         3\n",
       "39630  [1322, 814, 1508, 1624, 241, 1479, 4774, 2354,...  ...         1\n",
       "39631  [2495, 3540, 2787, 2937, 0, 0, 0, 0, 0, 0, 0, ...  ...         5\n",
       "39632  [3153, 579, 3651, 2657, 2169, 1745, 434, 1518,...  ...         5\n",
       "39633  [6, 3492, 2759, 2304, 53, 2845, 255, 1551, 150...  ...         1\n",
       "\n",
       "[39634 rows x 3 columns]"
      ]
     },
     "execution_count": 28,
     "metadata": {
      "tags": []
     },
     "output_type": "execute_result"
    }
   ],
   "source": [
    "data_load"
   ]
  },
  {
   "cell_type": "code",
   "execution_count": 0,
   "metadata": {
    "colab": {},
    "colab_type": "code",
    "id": "B9B59sRSQ273"
   },
   "outputs": [],
   "source": [
    "from torch.utils.data import DataLoader, Dataset\n",
    "class MovieData(Dataset):\n",
    "    \n",
    "    def __init__(self, data, max_len=60):\n",
    "        super(MovieData, self).__init__()\n",
    "        self.dataset = data\n",
    "        \n",
    "    def __len__(self):\n",
    "        return len(self.dataset)\n",
    "    \n",
    "    def __getitem__(self, ix):\n",
    "        text = self.dataset[\"tokens\"][ix]\n",
    "        #text_len = text.index(0) if 0 in text else 60\n",
    "        label = self.dataset[\"genre_ind\"][ix]\n",
    "        text = torch.LongTensor(text)\n",
    "        return text, label\n"
   ]
  },
  {
   "cell_type": "code",
   "execution_count": 0,
   "metadata": {
    "colab": {},
    "colab_type": "code",
    "id": "JzQRyg5VRY89"
   },
   "outputs": [],
   "source": [
    "# Original code is from https://github.com/spro/practical-pytorch\n",
    "import time\n",
    "import math\n",
    "import torch\n",
    "import torch.nn as nn\n",
    "from torch.autograd import Variable\n",
    "from torch.utils.data import DataLoader\n",
    "\n",
    "#from name_dataset import NameDataset\n",
    "from torch.nn.utils.rnn import pack_padded_sequence, pad_packed_sequence\n",
    "\n",
    "# Parameters and DataLoaders\n",
    "embedding_size = 500\n",
    "batch_size = 300\n",
    "HIDDEN_SIZE = 100\n",
    "N_CHARS =  len(set(flat_tokens)) + 1 # ASCII\n",
    "N_CLASSES = 6\n",
    "\n",
    "\n",
    "class RNNClassifier(nn.Module):\n",
    "\n",
    "    def __init__(self, input_size, hidden_size, output_size, n_layers=1):\n",
    "        super(RNNClassifier, self).__init__()\n",
    "        self.hidden_size = hidden_size\n",
    "        self.n_layers = n_layers\n",
    "\n",
    "        \n",
    "        self.embedding = nn.Embedding(input_size, embedding_size)\n",
    "        self.gru = nn.GRU(embedding_size, hidden_size, n_layers)\n",
    "        self.fc = nn.Linear(hidden_size, output_size)\n",
    "    \n",
    "    def forward(self, input):\n",
    "        \n",
    "        input = input.t()\n",
    "\n",
    "        embedded = self.embedding(input)\n",
    "\n",
    "        hidden = self._init_hidden(input.size(1))\n",
    "\n",
    "        output, hidden = self.gru(embedded, hidden)\n",
    "\n",
    "        fc_output = self.fc(output[-1,:,:]).reshape(input.size(1),N_CLASSES)\n",
    "        #fc_output = hidden[-1]\n",
    "        return torch.sigmoid(fc_output)\n",
    "\n",
    "    def _init_hidden(self, batch_size):\n",
    "        hidden = torch.zeros(self.n_layers, batch_size, self.hidden_size)\n",
    "        return Variable(hidden)"
   ]
  },
  {
   "cell_type": "code",
   "execution_count": 0,
   "metadata": {
    "colab": {},
    "colab_type": "code",
    "id": "cDWoPj-yRZlf"
   },
   "outputs": [],
   "source": [
    "#inputs = Variable(torch.LongTensor(train_X.tolist()))\n",
    "#labels = Variable(torch.LongTensor(train_y.tolist()))\n",
    "\n",
    "classifier = RNNClassifier(N_CHARS, HIDDEN_SIZE, N_CLASSES)\n",
    "criterion = torch.nn.CrossEntropyLoss()\n",
    "optimizer = torch.optim.Adam(classifier.parameters(), lr=0.001)\n"
   ]
  },
  {
   "cell_type": "code",
   "execution_count": 0,
   "metadata": {
    "colab": {},
    "colab_type": "code",
    "id": "mMC2ytPPRZjZ"
   },
   "outputs": [],
   "source": [
    "train_dataset = MovieData(data_load.iloc[:-int(len(data_load)/9),:].reset_index(drop=True))\n",
    "test_dataset = MovieData(data_load.iloc[-int(len(data_load)/9):,:].reset_index(drop=True))\n",
    "train_loader = torch.utils.data.DataLoader(dataset = train_dataset,\n",
    "                                          batch_size = batch_size,\n",
    "                                          shuffle = True)"
   ]
  },
  {
   "cell_type": "code",
   "execution_count": 0,
   "metadata": {
    "colab": {},
    "colab_type": "code",
    "id": "YV7tm1WYRZhf"
   },
   "outputs": [],
   "source": [
    "test_loader = torch.utils.data.DataLoader(dataset = test_dataset,\n",
    "                                          batch_size = 1,\n",
    "                                          shuffle = True)"
   ]
  },
  {
   "cell_type": "code",
   "execution_count": 35,
   "metadata": {
    "colab": {
     "base_uri": "https://localhost:8080/",
     "height": 448
    },
    "colab_type": "code",
    "executionInfo": {
     "elapsed": 3910,
     "status": "error",
     "timestamp": 1582952726557,
     "user": {
      "displayName": "정정호",
      "photoUrl": "",
      "userId": "01189220954616800785"
     },
     "user_tz": -540
    },
    "id": "ElDlbjqtRZd8",
    "outputId": "a91f262e-a70f-4ea3-d2b3-82c0e0b3d146"
   },
   "outputs": [
    {
     "name": "stdout",
     "output_type": "stream",
     "text": [
      "Training...\n",
      "epoch: 1, loss: 1.196\n",
      "Step 0 Accuracy: 0.7566666666666667\n"
     ]
    },
    {
     "ename": "KeyboardInterrupt",
     "evalue": "ignored",
     "output_type": "error",
     "traceback": [
      "\u001b[0;31m---------------------------------------------------------------------------\u001b[0m",
      "\u001b[0;31mKeyboardInterrupt\u001b[0m                         Traceback (most recent call last)",
      "\u001b[0;32m<ipython-input-35-ca651141144c>\u001b[0m in \u001b[0;36m<module>\u001b[0;34m()\u001b[0m\n\u001b[1;32m     13\u001b[0m         \u001b[0mloss\u001b[0m \u001b[0;34m=\u001b[0m \u001b[0mcriterion\u001b[0m\u001b[0;34m(\u001b[0m\u001b[0moutputs\u001b[0m\u001b[0;34m,\u001b[0m\u001b[0mtarget\u001b[0m\u001b[0;34m)\u001b[0m\u001b[0;34m\u001b[0m\u001b[0;34m\u001b[0m\u001b[0m\n\u001b[1;32m     14\u001b[0m \u001b[0;34m\u001b[0m\u001b[0m\n\u001b[0;32m---> 15\u001b[0;31m         \u001b[0mloss\u001b[0m\u001b[0;34m.\u001b[0m\u001b[0mbackward\u001b[0m\u001b[0;34m(\u001b[0m\u001b[0;34m)\u001b[0m\u001b[0;34m\u001b[0m\u001b[0;34m\u001b[0m\u001b[0m\n\u001b[0m\u001b[1;32m     16\u001b[0m \u001b[0;34m\u001b[0m\u001b[0m\n\u001b[1;32m     17\u001b[0m         \u001b[0moptimizer\u001b[0m\u001b[0;34m.\u001b[0m\u001b[0mstep\u001b[0m\u001b[0;34m(\u001b[0m\u001b[0;34m)\u001b[0m\u001b[0;34m\u001b[0m\u001b[0;34m\u001b[0m\u001b[0m\n",
      "\u001b[0;32m/usr/local/lib/python3.6/dist-packages/torch/tensor.py\u001b[0m in \u001b[0;36mbackward\u001b[0;34m(self, gradient, retain_graph, create_graph)\u001b[0m\n\u001b[1;32m    193\u001b[0m                 \u001b[0mproducts\u001b[0m\u001b[0;34m.\u001b[0m \u001b[0mDefaults\u001b[0m \u001b[0mto\u001b[0m\u001b[0;31m \u001b[0m\u001b[0;31m`\u001b[0m\u001b[0;31m`\u001b[0m\u001b[0;32mFalse\u001b[0m\u001b[0;31m`\u001b[0m\u001b[0;31m`\u001b[0m\u001b[0;34m.\u001b[0m\u001b[0;34m\u001b[0m\u001b[0;34m\u001b[0m\u001b[0m\n\u001b[1;32m    194\u001b[0m         \"\"\"\n\u001b[0;32m--> 195\u001b[0;31m         \u001b[0mtorch\u001b[0m\u001b[0;34m.\u001b[0m\u001b[0mautograd\u001b[0m\u001b[0;34m.\u001b[0m\u001b[0mbackward\u001b[0m\u001b[0;34m(\u001b[0m\u001b[0mself\u001b[0m\u001b[0;34m,\u001b[0m \u001b[0mgradient\u001b[0m\u001b[0;34m,\u001b[0m \u001b[0mretain_graph\u001b[0m\u001b[0;34m,\u001b[0m \u001b[0mcreate_graph\u001b[0m\u001b[0;34m)\u001b[0m\u001b[0;34m\u001b[0m\u001b[0;34m\u001b[0m\u001b[0m\n\u001b[0m\u001b[1;32m    196\u001b[0m \u001b[0;34m\u001b[0m\u001b[0m\n\u001b[1;32m    197\u001b[0m     \u001b[0;32mdef\u001b[0m \u001b[0mregister_hook\u001b[0m\u001b[0;34m(\u001b[0m\u001b[0mself\u001b[0m\u001b[0;34m,\u001b[0m \u001b[0mhook\u001b[0m\u001b[0;34m)\u001b[0m\u001b[0;34m:\u001b[0m\u001b[0;34m\u001b[0m\u001b[0;34m\u001b[0m\u001b[0m\n",
      "\u001b[0;32m/usr/local/lib/python3.6/dist-packages/torch/autograd/__init__.py\u001b[0m in \u001b[0;36mbackward\u001b[0;34m(tensors, grad_tensors, retain_graph, create_graph, grad_variables)\u001b[0m\n\u001b[1;32m     97\u001b[0m     Variable._execution_engine.run_backward(\n\u001b[1;32m     98\u001b[0m         \u001b[0mtensors\u001b[0m\u001b[0;34m,\u001b[0m \u001b[0mgrad_tensors\u001b[0m\u001b[0;34m,\u001b[0m \u001b[0mretain_graph\u001b[0m\u001b[0;34m,\u001b[0m \u001b[0mcreate_graph\u001b[0m\u001b[0;34m,\u001b[0m\u001b[0;34m\u001b[0m\u001b[0;34m\u001b[0m\u001b[0m\n\u001b[0;32m---> 99\u001b[0;31m         allow_unreachable=True)  # allow_unreachable flag\n\u001b[0m\u001b[1;32m    100\u001b[0m \u001b[0;34m\u001b[0m\u001b[0m\n\u001b[1;32m    101\u001b[0m \u001b[0;34m\u001b[0m\u001b[0m\n",
      "\u001b[0;31mKeyboardInterrupt\u001b[0m: "
     ]
    }
   ],
   "source": [
    "loss_list = []\n",
    "acc_list = []\n",
    "print('Training...')\n",
    "#labels = labels.squeeze(1)\n",
    "for epoch in range(50):\n",
    "    for i, (texts, labels) in enumerate(train_loader):\n",
    "        target = Variable(torch.LongTensor(labels))\n",
    "        \n",
    "        optimizer.zero_grad()\n",
    "        \n",
    "        outputs = classifier(texts)\n",
    "        \n",
    "        loss = criterion(outputs,target)\n",
    "        \n",
    "        loss.backward()\n",
    "        \n",
    "        optimizer.step()\n",
    "    \n",
    "        \n",
    "        train_y = pd.Series(labels.tolist())\n",
    "        acc = (pd.Series(torch.argmax(outputs,1).tolist()) == train_y.reset_index(drop=True)).sum() / len(train_y)\n",
    "        \n",
    "        if i % 100 == 0:\n",
    "            print(\"epoch: %d, loss: %1.3f\" % (epoch + 1, loss.item()))\n",
    "            print(\"Step {} Accuracy: {}\".format(i, acc))\n",
    "        \n",
    "        acc_list.append(acc)\n",
    "        loss_list.append(loss.item())\n",
    "        \n",
    "        \n",
    "    loss.detach()\n",
    "\n",
    "\n",
    "print(\"Learning finished!\")"
   ]
  },
  {
   "cell_type": "code",
   "execution_count": 0,
   "metadata": {
    "colab": {},
    "colab_type": "code",
    "id": "cvoFZOmbkaE2"
   },
   "outputs": [],
   "source": [
    "GENRES = [\"Comedy\", \"Action\", \"Thriller\",\"Horror\",\"Documentary\", \"Drama/Romance\"]"
   ]
  },
  {
   "cell_type": "code",
   "execution_count": 0,
   "metadata": {
    "colab": {
     "base_uri": "https://localhost:8080/",
     "height": 1000
    },
    "colab_type": "code",
    "executionInfo": {
     "elapsed": 25660,
     "status": "ok",
     "timestamp": 1582899033545,
     "user": {
      "displayName": "정정호",
      "photoUrl": "",
      "userId": "01189220954616800785"
     },
     "user_tz": -540
    },
    "id": "3zZrZyVERZbV",
    "outputId": "b0de0372-ca12-4620-c787-967b95e497ed"
   },
   "outputs": [
    {
     "name": "stdout",
     "output_type": "stream",
     "text": [
      "Drama/Romance Horror\n",
      "Step 0 Accuracy: False\n",
      "Drama/Romance Comedy\n",
      "Step 100 Accuracy: False\n",
      "Horror Horror\n",
      "Step 200 Accuracy: True\n",
      "Drama/Romance Drama/Romance\n",
      "Step 300 Accuracy: True\n",
      "Action Action\n",
      "Step 400 Accuracy: True\n",
      "Drama/Romance Comedy\n",
      "Step 500 Accuracy: False\n",
      "Horror Horror\n",
      "Step 600 Accuracy: True\n",
      "Horror Horror\n",
      "Step 700 Accuracy: True\n",
      "Action Action\n",
      "Step 800 Accuracy: True\n",
      "Drama/Romance Thriller\n",
      "Step 900 Accuracy: False\n",
      "Documentary Comedy\n",
      "Step 1000 Accuracy: False\n",
      "Documentary Documentary\n",
      "Step 1100 Accuracy: True\n",
      "Documentary Comedy\n",
      "Step 1200 Accuracy: False\n",
      "Drama/Romance Documentary\n",
      "Step 1300 Accuracy: False\n",
      "Horror Action\n",
      "Step 1400 Accuracy: False\n",
      "Comedy Drama/Romance\n",
      "Step 1500 Accuracy: False\n",
      "Action Drama/Romance\n",
      "Step 1600 Accuracy: False\n",
      "Drama/Romance Drama/Romance\n",
      "Step 1700 Accuracy: True\n",
      "Drama/Romance Comedy\n",
      "Step 1800 Accuracy: False\n",
      "Comedy Comedy\n",
      "Step 1900 Accuracy: True\n",
      "Comedy Drama/Romance\n",
      "Step 2000 Accuracy: False\n",
      "Drama/Romance Documentary\n",
      "Step 2100 Accuracy: False\n",
      "Drama/Romance Drama/Romance\n",
      "Step 2200 Accuracy: True\n",
      "Documentary Action\n",
      "Step 2300 Accuracy: False\n",
      "Drama/Romance Drama/Romance\n",
      "Step 2400 Accuracy: True\n",
      "Drama/Romance Thriller\n",
      "Step 2500 Accuracy: False\n",
      "Action Action\n",
      "Step 2600 Accuracy: True\n",
      "Comedy Comedy\n",
      "Step 2700 Accuracy: True\n",
      "Drama/Romance Drama/Romance\n",
      "Step 2800 Accuracy: True\n",
      "Documentary Documentary\n",
      "Step 2900 Accuracy: True\n",
      "Drama/Romance Horror\n",
      "Step 3000 Accuracy: False\n",
      "Drama/Romance Horror\n",
      "Step 3100 Accuracy: False\n",
      "Drama/Romance Drama/Romance\n",
      "Step 3200 Accuracy: True\n",
      "Drama/Romance Comedy\n",
      "Step 3300 Accuracy: False\n",
      "Horror Drama/Romance\n",
      "Step 3400 Accuracy: False\n",
      "Documentary Documentary\n",
      "Step 3500 Accuracy: True\n",
      "Horror Horror\n",
      "Step 3600 Accuracy: True\n",
      "Horror Horror\n",
      "Step 3700 Accuracy: True\n",
      "Action Comedy\n",
      "Step 3800 Accuracy: False\n",
      "Drama/Romance Drama/Romance\n",
      "Step 3900 Accuracy: True\n",
      "Drama/Romance Drama/Romance\n",
      "Step 4000 Accuracy: True\n",
      "Drama/Romance Comedy\n",
      "Step 4100 Accuracy: False\n",
      "Drama/Romance Comedy\n",
      "Step 4200 Accuracy: False\n",
      "Drama/Romance Drama/Romance\n",
      "Step 4300 Accuracy: True\n",
      "Drama/Romance Horror\n",
      "Step 4400 Accuracy: False\n"
     ]
    }
   ],
   "source": [
    "test_acc_list = []\n",
    "for i, (texts, labels) in enumerate(test_loader):\n",
    "  target = Variable(torch.LongTensor(labels))\n",
    "  \n",
    "  outputs = classifier(texts)\n",
    "  \n",
    "  train_y = pd.Series(labels.tolist())\n",
    "  acc = torch.argmax(outputs,1).tolist() == labels.tolist()\n",
    "  \n",
    "  if i % 100 == 0:\n",
    "      print(GENRES[torch.argmax(outputs,1).tolist()[0]], GENRES[labels.tolist()[0]])\n",
    "      print(\"Step {} Accuracy: {}\".format(i, acc))\n",
    "  \n",
    "  test_acc_list.append(acc)\n",
    "        "
   ]
  },
  {
   "cell_type": "code",
   "execution_count": 0,
   "metadata": {
    "colab": {
     "base_uri": "https://localhost:8080/",
     "height": 35
    },
    "colab_type": "code",
    "executionInfo": {
     "elapsed": 1037,
     "status": "ok",
     "timestamp": 1582899092379,
     "user": {
      "displayName": "정정호",
      "photoUrl": "",
      "userId": "01189220954616800785"
     },
     "user_tz": -540
    },
    "id": "dmgQe_abRYwm",
    "outputId": "3498e946-11ff-4445-e769-82fe20173d79"
   },
   "outputs": [
    {
     "name": "stdout",
     "output_type": "stream",
     "text": [
      "Test Accuracy:  0.5448557801498978\n"
     ]
    }
   ],
   "source": [
    "print(\"Test Accuracy: \", sum(test_acc_list) / len(test_acc_list))"
   ]
  },
  {
   "cell_type": "code",
   "execution_count": 0,
   "metadata": {
    "colab": {
     "base_uri": "https://localhost:8080/",
     "height": 35
    },
    "colab_type": "code",
    "executionInfo": {
     "elapsed": 1424,
     "status": "ok",
     "timestamp": 1582888890724,
     "user": {
      "displayName": "정정호",
      "photoUrl": "",
      "userId": "01189220954616800785"
     },
     "user_tz": -540
    },
    "id": "Eu4zdAZrRYuC",
    "outputId": "3fabc26b-bda4-42c3-f934-52bcaf7f1afb"
   },
   "outputs": [
    {
     "data": {
      "text/plain": [
       "<__main__.MovieData at 0x7f03f65ba4a8>"
      ]
     },
     "execution_count": 88,
     "metadata": {
      "tags": []
     },
     "output_type": "execute_result"
    }
   ],
   "source": [
    "train_dataset"
   ]
  },
  {
   "cell_type": "code",
   "execution_count": 0,
   "metadata": {
    "colab": {},
    "colab_type": "code",
    "id": "za9ioL_3RYru"
   },
   "outputs": [],
   "source": [
    "def nlp_master(try_input):\n",
    "\n",
    "  try_input = try_input.lower()\n",
    "\n",
    "  # Use RegX\n",
    "\n",
    "  from nltk.tokenize import RegexpTokenizer\n",
    "\n",
    "  tokenizer = RegexpTokenizer(r'\\w+')\n",
    "  ov_token_reg = tokenizer.tokenize(try_input)\n",
    "\n",
    "  # exclude stopwords\n",
    "\n",
    "  ov_token_sw_try = [word for word in ov_token_reg if word not in stopWords]\n",
    "\n",
    "  train_X_raw_try = [stemmer.stem(i) for i in ov_token_sw_try]\n",
    "\n",
    "  train_X_clean_try = [word for word in train_X_raw_try if word in stops]\n",
    "\n",
    "  word_exclude_list = [\"one\",\"two\",\"three\",\"four\",\"five\",\n",
    "                      \"six\",\"seven\",\"eight\",\"nine\",\"ten\",\n",
    "                      \"much\",\"would\",\"ever\",\"whose\",\"also\",\n",
    "                      \"seem\",\"jame\",\"john\",\"david\",\"peter\",\"michael\", \n",
    "                      \"mari\", \"ann\", \"lee\", \"u\", \"ii\", \"sam\", \n",
    "                      \"els\", \"lisa\", 'charl', 'linda', 'daniel', \n",
    "                      'steven', 'steve', 'joe', 'kevin', 'william', \n",
    "                      'harri', 'richard', 'elizabeth', 'martin', \n",
    "                      'jim', 'anna']\n",
    "\n",
    "  #word_exclude_list += list(stops)\n",
    "\n",
    "  train_X_final_try = [word for word in train_X_clean_try if word not in word_exclude_list]\n",
    "  aa = token_cutting([train_X_final_try], word_indexing(flat_tokens)[0], cut_tokens = 50)\n",
    "  output_try = classifier(Variable(torch.LongTensor(aa)))\n",
    "  #print(GENRES[torch.argmax(output_try,1).tolist()[0]])\n",
    "  return GENRES[torch.argmax(output_try,1).tolist()[0]]"
   ]
  },
  {
   "cell_type": "code",
   "execution_count": 39,
   "metadata": {
    "colab": {
     "base_uri": "https://localhost:8080/",
     "height": 35
    },
    "colab_type": "code",
    "executionInfo": {
     "elapsed": 1138,
     "status": "ok",
     "timestamp": 1582952764982,
     "user": {
      "displayName": "정정호",
      "photoUrl": "",
      "userId": "01189220954616800785"
     },
     "user_tz": -540
    },
    "id": "MgCX-bYGRYn9",
    "outputId": "d9c48f29-5102-4253-e991-2c3e56e31c6b"
   },
   "outputs": [
    {
     "data": {
      "text/plain": [
       "'Horror'"
      ]
     },
     "execution_count": 39,
     "metadata": {
      "tags": []
     },
     "output_type": "execute_result"
    }
   ],
   "source": [
    "nlp_master(\"I killed a hound by the street. The hound returned as a ghost and haunted me for the rest of my life\")"
   ]
  },
  {
   "cell_type": "code",
   "execution_count": 40,
   "metadata": {
    "colab": {
     "base_uri": "https://localhost:8080/",
     "height": 35
    },
    "colab_type": "code",
    "executionInfo": {
     "elapsed": 1674,
     "status": "ok",
     "timestamp": 1582952766459,
     "user": {
      "displayName": "정정호",
      "photoUrl": "",
      "userId": "01189220954616800785"
     },
     "user_tz": -540
    },
    "id": "UD7Eyyi2qPpQ",
    "outputId": "2584ae34-6072-44fd-9226-cbecaecfe89f"
   },
   "outputs": [
    {
     "data": {
      "text/plain": [
       "'Drama/Romance'"
      ]
     },
     "execution_count": 40,
     "metadata": {
      "tags": []
     },
     "output_type": "execute_result"
    }
   ],
   "source": [
    "nlp_master(\"Anne and Tom fell in love during high school. They went to university together, but during university, they broke up. Fortunately, in the end, they got married together and lived happily ever after\")"
   ]
  },
  {
   "cell_type": "code",
   "execution_count": 41,
   "metadata": {
    "colab": {
     "base_uri": "https://localhost:8080/",
     "height": 35
    },
    "colab_type": "code",
    "executionInfo": {
     "elapsed": 954,
     "status": "ok",
     "timestamp": 1582952766460,
     "user": {
      "displayName": "정정호",
      "photoUrl": "",
      "userId": "01189220954616800785"
     },
     "user_tz": -540
    },
    "id": "UR0OlRYbqy0t",
    "outputId": "2e161145-c4a0-4ee8-f82b-c8902f13bf9d"
   },
   "outputs": [
    {
     "data": {
      "text/plain": [
       "'Action'"
      ]
     },
     "execution_count": 41,
     "metadata": {
      "tags": []
     },
     "output_type": "execute_result"
    }
   ],
   "source": [
    "nlp_master('April 6th, 1917. As a regiment assembles to wage war deep in enemy territory, two soldiers are assigned to race against time and deliver a message that will stop 1,600 men from walking straight into a deadly trap.')"
   ]
  },
  {
   "cell_type": "code",
   "execution_count": 80,
   "metadata": {
    "colab": {
     "base_uri": "https://localhost:8080/",
     "height": 35
    },
    "colab_type": "code",
    "executionInfo": {
     "elapsed": 2303,
     "status": "ok",
     "timestamp": 1582961923102,
     "user": {
      "displayName": "정정호",
      "photoUrl": "",
      "userId": "01189220954616800785"
     },
     "user_tz": -540
    },
    "id": "U2LZRnNqzuHz",
    "outputId": "217a6caf-4f5f-4a97-bf3d-4a28a2d18b49"
   },
   "outputs": [
    {
     "data": {
      "text/plain": [
       "'Horror'"
      ]
     },
     "execution_count": 80,
     "metadata": {
      "tags": []
     },
     "output_type": "execute_result"
    }
   ],
   "source": [
    "nlp_master(\"After school, Jim found a dead body in the park. Turns out the body was his ex-girlfriend. Shocked and frightened Jim tries to find who the killer would be. Something seems real suspicious about his current girlfirend's father\")"
   ]
  },
  {
   "cell_type": "code",
   "execution_count": 81,
   "metadata": {
    "colab": {
     "base_uri": "https://localhost:8080/",
     "height": 35
    },
    "colab_type": "code",
    "executionInfo": {
     "elapsed": 1860,
     "status": "ok",
     "timestamp": 1582961944501,
     "user": {
      "displayName": "정정호",
      "photoUrl": "",
      "userId": "01189220954616800785"
     },
     "user_tz": -540
    },
    "id": "j5DzQitCf6sv",
    "outputId": "01145f54-113f-49bf-d8ae-aa637d19d184"
   },
   "outputs": [
    {
     "data": {
      "text/plain": [
       "'Action'"
      ]
     },
     "execution_count": 81,
     "metadata": {
      "tags": []
     },
     "output_type": "execute_result"
    }
   ],
   "source": [
    "nlp_master(\"After the devastating events of Avengers: Infinity War (2018), the universe is in ruins. With the help of remaining allies, the Avengers assemble once more in order to reverse Thanos' actions and restore balance to the universe.\")"
   ]
  },
  {
   "cell_type": "code",
   "execution_count": 82,
   "metadata": {
    "colab": {
     "base_uri": "https://localhost:8080/",
     "height": 35
    },
    "colab_type": "code",
    "executionInfo": {
     "elapsed": 1882,
     "status": "ok",
     "timestamp": 1582962024662,
     "user": {
      "displayName": "정정호",
      "photoUrl": "",
      "userId": "01189220954616800785"
     },
     "user_tz": -540
    },
    "id": "ScesA6Fyf9oa",
    "outputId": "fec02982-9970-4b7b-d472-d72af2ce89af"
   },
   "outputs": [
    {
     "data": {
      "text/plain": [
       "'Horror'"
      ]
     },
     "execution_count": 82,
     "metadata": {
      "tags": []
     },
     "output_type": "execute_result"
    }
   ],
   "source": [
    "nlp_master(\"After a strange foreigner (June Kunimura) appears, the village is overturned by a mysterious chain of events. The police make a tentative conclusion with collective wild mushroom poisoning, Rumors and suspicions spread all the way that the cause of every incident is due to the stranger. The police “Jong-gu” (Kwak Do-won) met the woman “Mown” (Chun Woo-hee) who witnessed the scene. Starts convincing rumors about outsiders. 'Jung-gu' became urgent when his daughter Hyo-jin (Kim Hwan-hee) began to get sick with symptoms similar to the victims. They hunt for foreigners and bring in shamanic sunshine, Hwang Jung-min.\")"
   ]
  },
  {
   "cell_type": "code",
   "execution_count": 83,
   "metadata": {
    "colab": {
     "base_uri": "https://localhost:8080/",
     "height": 35
    },
    "colab_type": "code",
    "executionInfo": {
     "elapsed": 1062,
     "status": "ok",
     "timestamp": 1582962082264,
     "user": {
      "displayName": "정정호",
      "photoUrl": "",
      "userId": "01189220954616800785"
     },
     "user_tz": -540
    },
    "id": "N81eBbvvf-07",
    "outputId": "5d4678b0-a929-45d7-b25c-6cb85659f20d"
   },
   "outputs": [
    {
     "data": {
      "text/plain": [
       "'Drama/Romance'"
      ]
     },
     "execution_count": 83,
     "metadata": {
      "tags": []
     },
     "output_type": "execute_result"
    }
   ],
   "source": [
    "nlp_master(\"At the age of 21, Tim discovers he can travel in time and change what happens and has happened in his own life. His decision to make his world a better place by getting a girlfriend turns out not to be as easy as you might think.\")"
   ]
  },
  {
   "cell_type": "code",
   "execution_count": 0,
   "metadata": {
    "colab": {},
    "colab_type": "code",
    "id": "PeAyF7_bgAs1"
   },
   "outputs": [],
   "source": []
  },
  {
   "cell_type": "code",
   "execution_count": 0,
   "metadata": {
    "colab": {},
    "colab_type": "code",
    "id": "pJ-6QoFygEQS"
   },
   "outputs": [],
   "source": []
  }
 ],
 "metadata": {
  "accelerator": "GPU",
  "colab": {
   "collapsed_sections": [],
   "name": "NLP_master.ipynb",
   "provenance": []
  },
  "kernelspec": {
   "display_name": "Python 3",
   "language": "python",
   "name": "python3"
  },
  "language_info": {
   "codemirror_mode": {
    "name": "ipython",
    "version": 3
   },
   "file_extension": ".py",
   "mimetype": "text/x-python",
   "name": "python",
   "nbconvert_exporter": "python",
   "pygments_lexer": "ipython3",
   "version": "3.6.10"
  }
 },
 "nbformat": 4,
 "nbformat_minor": 1
}
